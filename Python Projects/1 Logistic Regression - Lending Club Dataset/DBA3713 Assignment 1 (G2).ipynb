{
 "cells": [
  {
   "cell_type": "markdown",
   "metadata": {},
   "source": [
    "# DBA3713 Analytics for Risk Management\n",
    "\n",
    "## Assignment 1 - Credit lending problem with logistic regression and its variants\n",
    "\n",
    "### Due Date: Week 4 before class"
   ]
  },
  {
   "cell_type": "markdown",
   "metadata": {},
   "source": [
    "## Assignment Overview\n",
    "\n",
    "* The goal of this assignment is to take a step-by-step approach to solving the credit lending problem on a more realistic data set. \n",
    "\n",
    "* In this assignment, we will start from the ETL (Extract, Transform, Load) and data cleaning, followed by building logistic models, and finally, how to produce a credit decision rule. We will also explore variants of the logistic regression\n",
    "* A dataset containing the full loan data has been uploaded on Luminus. \n",
    "* Please answer the questions and write the code/results in the blanks/empty cells. \n",
    "* 45 pts in total"
   ]
  },
  {
   "cell_type": "code",
   "execution_count": 1,
   "metadata": {},
   "outputs": [],
   "source": [
    "# Data analysis\n",
    "import pandas as pd\n",
    "import numpy as np\n",
    "\n",
    "# Data visualization\n",
    "import matplotlib.pyplot as plt\n",
    "\n",
    "# Machine learning\n",
    "from sklearn.linear_model import LogisticRegression\n",
    "from sklearn.metrics import confusion_matrix, roc_curve, roc_auc_score"
   ]
  },
  {
   "cell_type": "markdown",
   "metadata": {},
   "source": [
    "# Part 1. Data pre-processing "
   ]
  },
  {
   "cell_type": "markdown",
   "metadata": {},
   "source": [
    "<a id=\"Section_1.1\"></a>\n",
    "### 1.1 Load the data \n",
    "* Read data by pandas and name it as \"loans\". This step has been done for you."
   ]
  },
  {
   "cell_type": "code",
   "execution_count": 2,
   "metadata": {},
   "outputs": [
    {
     "data": {
      "text/html": [
       "<div>\n",
       "<style scoped>\n",
       "    .dataframe tbody tr th:only-of-type {\n",
       "        vertical-align: middle;\n",
       "    }\n",
       "\n",
       "    .dataframe tbody tr th {\n",
       "        vertical-align: top;\n",
       "    }\n",
       "\n",
       "    .dataframe thead th {\n",
       "        text-align: right;\n",
       "    }\n",
       "</style>\n",
       "<table border=\"1\" class=\"dataframe\">\n",
       "  <thead>\n",
       "    <tr style=\"text-align: right;\">\n",
       "      <th></th>\n",
       "      <th>loan_amnt</th>\n",
       "      <th>term</th>\n",
       "      <th>int_rate</th>\n",
       "      <th>installment</th>\n",
       "      <th>grade</th>\n",
       "      <th>sub_grade</th>\n",
       "      <th>emp_title</th>\n",
       "      <th>emp_length</th>\n",
       "      <th>home_ownership</th>\n",
       "      <th>annual_inc</th>\n",
       "      <th>...</th>\n",
       "      <th>hardship_loan_status</th>\n",
       "      <th>orig_projected_additional_accrued_interest</th>\n",
       "      <th>hardship_payoff_balance_amount</th>\n",
       "      <th>hardship_last_payment_amount</th>\n",
       "      <th>debt_settlement_flag_date</th>\n",
       "      <th>settlement_status</th>\n",
       "      <th>settlement_date</th>\n",
       "      <th>settlement_amount</th>\n",
       "      <th>settlement_percentage</th>\n",
       "      <th>settlement_term</th>\n",
       "    </tr>\n",
       "  </thead>\n",
       "  <tbody>\n",
       "    <tr>\n",
       "      <th>0</th>\n",
       "      <td>16000</td>\n",
       "      <td>60 months</td>\n",
       "      <td>12.74</td>\n",
       "      <td>361.93</td>\n",
       "      <td>C</td>\n",
       "      <td>C1</td>\n",
       "      <td>Aircraft Maintenance Technician</td>\n",
       "      <td>1 year</td>\n",
       "      <td>MORTGAGE</td>\n",
       "      <td>80000.0</td>\n",
       "      <td>...</td>\n",
       "      <td>NaN</td>\n",
       "      <td>NaN</td>\n",
       "      <td>NaN</td>\n",
       "      <td>NaN</td>\n",
       "      <td>NaN</td>\n",
       "      <td>NaN</td>\n",
       "      <td>NaN</td>\n",
       "      <td>NaN</td>\n",
       "      <td>NaN</td>\n",
       "      <td>NaN</td>\n",
       "    </tr>\n",
       "    <tr>\n",
       "      <th>1</th>\n",
       "      <td>25000</td>\n",
       "      <td>60 months</td>\n",
       "      <td>28.69</td>\n",
       "      <td>788.84</td>\n",
       "      <td>F</td>\n",
       "      <td>F1</td>\n",
       "      <td>Checker</td>\n",
       "      <td>5 years</td>\n",
       "      <td>MORTGAGE</td>\n",
       "      <td>75200.0</td>\n",
       "      <td>...</td>\n",
       "      <td>NaN</td>\n",
       "      <td>NaN</td>\n",
       "      <td>NaN</td>\n",
       "      <td>NaN</td>\n",
       "      <td>NaN</td>\n",
       "      <td>NaN</td>\n",
       "      <td>NaN</td>\n",
       "      <td>NaN</td>\n",
       "      <td>NaN</td>\n",
       "      <td>NaN</td>\n",
       "    </tr>\n",
       "    <tr>\n",
       "      <th>2</th>\n",
       "      <td>5000</td>\n",
       "      <td>36 months</td>\n",
       "      <td>5.32</td>\n",
       "      <td>150.58</td>\n",
       "      <td>A</td>\n",
       "      <td>A1</td>\n",
       "      <td>Principal</td>\n",
       "      <td>8 years</td>\n",
       "      <td>RENT</td>\n",
       "      <td>95000.0</td>\n",
       "      <td>...</td>\n",
       "      <td>NaN</td>\n",
       "      <td>NaN</td>\n",
       "      <td>NaN</td>\n",
       "      <td>NaN</td>\n",
       "      <td>NaN</td>\n",
       "      <td>NaN</td>\n",
       "      <td>NaN</td>\n",
       "      <td>NaN</td>\n",
       "      <td>NaN</td>\n",
       "      <td>NaN</td>\n",
       "    </tr>\n",
       "    <tr>\n",
       "      <th>3</th>\n",
       "      <td>30000</td>\n",
       "      <td>60 months</td>\n",
       "      <td>16.24</td>\n",
       "      <td>733.38</td>\n",
       "      <td>C</td>\n",
       "      <td>C5</td>\n",
       "      <td>Production Supervisor</td>\n",
       "      <td>10+ years</td>\n",
       "      <td>MORTGAGE</td>\n",
       "      <td>72900.0</td>\n",
       "      <td>...</td>\n",
       "      <td>NaN</td>\n",
       "      <td>NaN</td>\n",
       "      <td>NaN</td>\n",
       "      <td>NaN</td>\n",
       "      <td>NaN</td>\n",
       "      <td>NaN</td>\n",
       "      <td>NaN</td>\n",
       "      <td>NaN</td>\n",
       "      <td>NaN</td>\n",
       "      <td>NaN</td>\n",
       "    </tr>\n",
       "    <tr>\n",
       "      <th>4</th>\n",
       "      <td>7500</td>\n",
       "      <td>36 months</td>\n",
       "      <td>14.49</td>\n",
       "      <td>258.13</td>\n",
       "      <td>C</td>\n",
       "      <td>C4</td>\n",
       "      <td>Director Supplier Management</td>\n",
       "      <td>10+ years</td>\n",
       "      <td>MORTGAGE</td>\n",
       "      <td>180000.0</td>\n",
       "      <td>...</td>\n",
       "      <td>NaN</td>\n",
       "      <td>NaN</td>\n",
       "      <td>NaN</td>\n",
       "      <td>NaN</td>\n",
       "      <td>NaN</td>\n",
       "      <td>NaN</td>\n",
       "      <td>NaN</td>\n",
       "      <td>NaN</td>\n",
       "      <td>NaN</td>\n",
       "      <td>NaN</td>\n",
       "    </tr>\n",
       "  </tbody>\n",
       "</table>\n",
       "<p>5 rows × 132 columns</p>\n",
       "</div>"
      ],
      "text/plain": [
       "   loan_amnt        term  int_rate  installment grade sub_grade  \\\n",
       "0      16000   60 months     12.74       361.93     C        C1   \n",
       "1      25000   60 months     28.69       788.84     F        F1   \n",
       "2       5000   36 months      5.32       150.58     A        A1   \n",
       "3      30000   60 months     16.24       733.38     C        C5   \n",
       "4       7500   36 months     14.49       258.13     C        C4   \n",
       "\n",
       "                         emp_title emp_length home_ownership  annual_inc  ...  \\\n",
       "0  Aircraft Maintenance Technician     1 year       MORTGAGE     80000.0  ...   \n",
       "1                          Checker    5 years       MORTGAGE     75200.0  ...   \n",
       "2                        Principal    8 years           RENT     95000.0  ...   \n",
       "3            Production Supervisor  10+ years       MORTGAGE     72900.0  ...   \n",
       "4     Director Supplier Management  10+ years       MORTGAGE    180000.0  ...   \n",
       "\n",
       "  hardship_loan_status orig_projected_additional_accrued_interest  \\\n",
       "0                  NaN                                        NaN   \n",
       "1                  NaN                                        NaN   \n",
       "2                  NaN                                        NaN   \n",
       "3                  NaN                                        NaN   \n",
       "4                  NaN                                        NaN   \n",
       "\n",
       "  hardship_payoff_balance_amount hardship_last_payment_amount  \\\n",
       "0                            NaN                          NaN   \n",
       "1                            NaN                          NaN   \n",
       "2                            NaN                          NaN   \n",
       "3                            NaN                          NaN   \n",
       "4                            NaN                          NaN   \n",
       "\n",
       "  debt_settlement_flag_date settlement_status settlement_date  \\\n",
       "0                       NaN               NaN             NaN   \n",
       "1                       NaN               NaN             NaN   \n",
       "2                       NaN               NaN             NaN   \n",
       "3                       NaN               NaN             NaN   \n",
       "4                       NaN               NaN             NaN   \n",
       "\n",
       "  settlement_amount  settlement_percentage  settlement_term  \n",
       "0               NaN                    NaN              NaN  \n",
       "1               NaN                    NaN              NaN  \n",
       "2               NaN                    NaN              NaN  \n",
       "3               NaN                    NaN              NaN  \n",
       "4               NaN                    NaN              NaN  \n",
       "\n",
       "[5 rows x 132 columns]"
      ]
     },
     "execution_count": 2,
     "metadata": {},
     "output_type": "execute_result"
    }
   ],
   "source": [
    "# Read data by pandas and name it as \"loans\". This step has been done for you.\n",
    "\n",
    "loans = pd.read_csv('lendingclub_full_data_set_no_id.csv')\n",
    "loans.head(5)"
   ]
  },
  {
   "cell_type": "markdown",
   "metadata": {},
   "source": [
    "* Show how many rows and columns such dataset has."
   ]
  },
  {
   "cell_type": "code",
   "execution_count": 3,
   "metadata": {},
   "outputs": [
    {
     "name": "stdout",
     "output_type": "stream",
     "text": [
      "(24999, 132)\n",
      "-------------------\n",
      "Rows: 24999\n",
      "Cols: 132\n"
     ]
    }
   ],
   "source": [
    "# Show how many rows and columns this dataset has\n",
    "print(loans.shape)\n",
    "\n",
    "print('-------------------')\n",
    "\n",
    "# Cleaner answer\n",
    "r, c = len(loans), len(loans.columns)\n",
    "print('Rows: ' + str(r))\n",
    "print('Cols: ' +str(c))"
   ]
  },
  {
   "cell_type": "markdown",
   "metadata": {},
   "source": [
    "<a id=\"Section_1.2\"></a>\n",
    "### 1.2 Outcome variable \n",
    "The event of interest is whether a loan ends up in default or not. The variable \"*loan_status*\" best describes the information. We firstly take a close look at it.\n",
    "* List all the unique values of \"*loan_status*\" and count how many are they in the data set"
   ]
  },
  {
   "cell_type": "code",
   "execution_count": 4,
   "metadata": {},
   "outputs": [
    {
     "name": "stdout",
     "output_type": "stream",
     "text": [
      "['Current', 'Fully Paid', 'Charged Off', 'In Grace Period', 'Late (31-120 days)', 'Late (16-30 days)', 'Does not meet the credit policy. Status:Fully Paid', 'Does not meet the credit policy. Status:Charged Off', 'Default']\n",
      "-------------------\n",
      "Count of unique loan status values: 9\n",
      "-------------------\n",
      "Current                                                12063\n",
      "Fully Paid                                              9733\n",
      "Charged Off                                             2557\n",
      "Late (31-120 days)                                       336\n",
      "In Grace Period                                          174\n",
      "Late (16-30 days)                                        101\n",
      "Does not meet the credit policy. Status:Fully Paid        28\n",
      "Does not meet the credit policy. Status:Charged Off        5\n",
      "Default                                                    2\n",
      "Name: loan_status, dtype: int64\n"
     ]
    }
   ],
   "source": [
    "# list all the unique values of loan status and count the volume of them\n",
    "unique_loan_status, count_loan_status = list(loans.loan_status.unique()), len(list(loans.loan_status.unique()))\n",
    "\n",
    "print(unique_loan_status)\n",
    "\n",
    "print('-------------------')\n",
    "# Count of unique values \n",
    "print('Count of unique loan status values: ' + str(count_loan_status))\n",
    "\n",
    "print('-------------------')\n",
    "# Count of each unique value\n",
    "print(loans.loan_status.value_counts())\n"
   ]
  },
  {
   "cell_type": "markdown",
   "metadata": {},
   "source": [
    "* For simplicity, let us only include the loans with status is one of the following:\n",
    " * \"Fully Paid\"\n",
    " * \"Charged Off\"\n",
    " * \"Late (31-120 days)\"\n",
    " * \"Default\"\n",
    " \n",
    "\n",
    "<div class=\"alert alert-warning\">\n",
    "<b>Suggestion: </b> Any deletion of rows could be followed by 'reset_index' to avoid such indexing issues later in the processing.\n",
    "\n",
    "</div>"
   ]
  },
  {
   "cell_type": "code",
   "execution_count": 5,
   "metadata": {},
   "outputs": [
    {
     "name": "stdout",
     "output_type": "stream",
     "text": [
      "['Fully Paid', 'Charged Off', 'Late (31-120 days)', 'Default']\n"
     ]
    }
   ],
   "source": [
    "# Reset the \"loans\" dataset by only including the rows whose \"loan_status\" belongs to one of the following: \n",
    "# 'Fully Paid','Late (31-120 days)','Default' and 'Charged Off'\n",
    "# Suggestion: any deletion of rows could be followed by reset_index to avoid such indexing issues later in the processing\n",
    "\n",
    "desired_loan_status = ['Fully Paid','Late (31-120 days)','Default', 'Charged Off']\n",
    "\n",
    "# Created copy of loans, filtered loans to prevent loss of original df.\n",
    "filtered_loans = (loans.loc[loans['loan_status']\n",
    "                        .apply(lambda x: x in desired_loan_status)]\n",
    "                        .reset_index(drop = True))\n",
    "\n",
    "# Check the unique values for loan_status\n",
    "print(list(filtered_loans.loan_status.unique()))"
   ]
  },
  {
   "cell_type": "markdown",
   "metadata": {},
   "source": [
    "* Convert loan status to binary values.\n",
    "\n",
    "  *  Rule: A “good” loan = 1 (i.e., positive) and a “bad” loan = 0 (i.e., negative). A good loan means one that is fully paid and a bad one means otherwise."
   ]
  },
  {
   "cell_type": "code",
   "execution_count": 6,
   "metadata": {},
   "outputs": [],
   "source": [
    "# Convert loan status to binary values.\n",
    "# Rule: A “good” loan = 1 (i.e., positive) and a “bad” loan = 0 (i.e., negative). \n",
    "# A good loan means one that is fully paid and a bad one means otherwise.\n",
    "filtered_loans.loan_status = filtered_loans.loan_status.apply(lambda x: 1 if x == \"Fully Paid\" else 0)\n"
   ]
  },
  {
   "cell_type": "markdown",
   "metadata": {},
   "source": [
    "* We have finisihed the pre-processing the loan status information. List again all the unique values of \"loan_status\" and count the volume of them\n",
    "\n"
   ]
  },
  {
   "cell_type": "code",
   "execution_count": 7,
   "metadata": {},
   "outputs": [
    {
     "name": "stdout",
     "output_type": "stream",
     "text": [
      "[1, 0]\n",
      "-------------------\n",
      "Count of unique values: 2\n",
      "-------------------\n",
      "1    9733\n",
      "0    2895\n",
      "Name: loan_status, dtype: int64\n"
     ]
    }
   ],
   "source": [
    "# List again all the unique values of \"loan_status\" and count the volume of them\n",
    "list_filtered_loan_status = list(filtered_loans.loan_status.unique())\n",
    "print(list_filtered_loan_status)\n",
    "\n",
    "print('-------------------')\n",
    "# Count of unique values \n",
    "print('Count of unique values: ' +str(len(list_filtered_loan_status)))\n",
    "\n",
    "print('-------------------')\n",
    "# Count of each type\n",
    "print(filtered_loans.loan_status.value_counts())\n"
   ]
  },
  {
   "cell_type": "markdown",
   "metadata": {},
   "source": [
    "<a id=\"Section_1.3\"></a>\n",
    "### 1.3 Feature Manipulation\n",
    "Although as aforementioned we have 132 features, we select 26 out of them here for illustration. We may make further refinement as a further exercise of feature selection.  "
   ]
  },
  {
   "cell_type": "code",
   "execution_count": 8,
   "metadata": {},
   "outputs": [],
   "source": [
    "# We consider the following pool of features\n",
    "    \n",
    "feature_pool = ['fico_range_high',\n",
    " 'fico_range_low',\n",
    " 'acc_now_delinq',\n",
    " 'installment',\n",
    " 'collections_12_mths_ex_med',\n",
    " 'tax_liens',\n",
    " 'verification_status',\n",
    " 'revol_bal',\n",
    " 'home_ownership',\n",
    " 'total_acc',\n",
    " 'annual_inc',\n",
    " 'delinq_2yrs',\n",
    " 'pub_rec_bankruptcies',\n",
    " 'purpose',\n",
    " 'loan_amnt',\n",
    " 'open_acc',\n",
    " 'revol_util',\n",
    " 'sub_grade',\n",
    " 'delinq_amnt',\n",
    " 'chargeoff_within_12_mths',\n",
    " 'inq_last_6mths',\n",
    " 'pub_rec',\n",
    " 'term',\n",
    " 'dti','int_rate',\n",
    "  'addr_state']\n",
    "\n",
    "\n",
    "outcome = 'loan_status'"
   ]
  },
  {
   "cell_type": "markdown",
   "metadata": {},
   "source": [
    "* Reset \"loans\" dataset by only including the features in the pool"
   ]
  },
  {
   "cell_type": "code",
   "execution_count": 9,
   "metadata": {},
   "outputs": [
    {
     "data": {
      "text/html": [
       "<div>\n",
       "<style scoped>\n",
       "    .dataframe tbody tr th:only-of-type {\n",
       "        vertical-align: middle;\n",
       "    }\n",
       "\n",
       "    .dataframe tbody tr th {\n",
       "        vertical-align: top;\n",
       "    }\n",
       "\n",
       "    .dataframe thead th {\n",
       "        text-align: right;\n",
       "    }\n",
       "</style>\n",
       "<table border=\"1\" class=\"dataframe\">\n",
       "  <thead>\n",
       "    <tr style=\"text-align: right;\">\n",
       "      <th></th>\n",
       "      <th>fico_range_high</th>\n",
       "      <th>fico_range_low</th>\n",
       "      <th>acc_now_delinq</th>\n",
       "      <th>installment</th>\n",
       "      <th>collections_12_mths_ex_med</th>\n",
       "      <th>tax_liens</th>\n",
       "      <th>verification_status</th>\n",
       "      <th>revol_bal</th>\n",
       "      <th>home_ownership</th>\n",
       "      <th>total_acc</th>\n",
       "      <th>...</th>\n",
       "      <th>revol_util</th>\n",
       "      <th>sub_grade</th>\n",
       "      <th>delinq_amnt</th>\n",
       "      <th>chargeoff_within_12_mths</th>\n",
       "      <th>inq_last_6mths</th>\n",
       "      <th>pub_rec</th>\n",
       "      <th>term</th>\n",
       "      <th>dti</th>\n",
       "      <th>int_rate</th>\n",
       "      <th>addr_state</th>\n",
       "    </tr>\n",
       "  </thead>\n",
       "  <tbody>\n",
       "    <tr>\n",
       "      <th>0</th>\n",
       "      <td>689</td>\n",
       "      <td>685</td>\n",
       "      <td>0.0</td>\n",
       "      <td>788.84</td>\n",
       "      <td>0.0</td>\n",
       "      <td>0.0</td>\n",
       "      <td>Verified</td>\n",
       "      <td>4697</td>\n",
       "      <td>MORTGAGE</td>\n",
       "      <td>23.0</td>\n",
       "      <td>...</td>\n",
       "      <td>54.0</td>\n",
       "      <td>F1</td>\n",
       "      <td>0.0</td>\n",
       "      <td>0.0</td>\n",
       "      <td>4.0</td>\n",
       "      <td>0.0</td>\n",
       "      <td>60 months</td>\n",
       "      <td>23.28</td>\n",
       "      <td>28.69</td>\n",
       "      <td>GA</td>\n",
       "    </tr>\n",
       "    <tr>\n",
       "      <th>1</th>\n",
       "      <td>719</td>\n",
       "      <td>715</td>\n",
       "      <td>0.0</td>\n",
       "      <td>733.38</td>\n",
       "      <td>0.0</td>\n",
       "      <td>0.0</td>\n",
       "      <td>Verified</td>\n",
       "      <td>7265</td>\n",
       "      <td>MORTGAGE</td>\n",
       "      <td>25.0</td>\n",
       "      <td>...</td>\n",
       "      <td>53.8</td>\n",
       "      <td>C5</td>\n",
       "      <td>0.0</td>\n",
       "      <td>0.0</td>\n",
       "      <td>2.0</td>\n",
       "      <td>0.0</td>\n",
       "      <td>60 months</td>\n",
       "      <td>13.94</td>\n",
       "      <td>16.24</td>\n",
       "      <td>IL</td>\n",
       "    </tr>\n",
       "    <tr>\n",
       "      <th>2</th>\n",
       "      <td>669</td>\n",
       "      <td>665</td>\n",
       "      <td>0.0</td>\n",
       "      <td>258.13</td>\n",
       "      <td>0.0</td>\n",
       "      <td>0.0</td>\n",
       "      <td>Not Verified</td>\n",
       "      <td>27092</td>\n",
       "      <td>MORTGAGE</td>\n",
       "      <td>27.0</td>\n",
       "      <td>...</td>\n",
       "      <td>80.4</td>\n",
       "      <td>C4</td>\n",
       "      <td>0.0</td>\n",
       "      <td>0.0</td>\n",
       "      <td>0.0</td>\n",
       "      <td>0.0</td>\n",
       "      <td>36 months</td>\n",
       "      <td>14.60</td>\n",
       "      <td>14.49</td>\n",
       "      <td>AZ</td>\n",
       "    </tr>\n",
       "    <tr>\n",
       "      <th>3</th>\n",
       "      <td>714</td>\n",
       "      <td>710</td>\n",
       "      <td>0.0</td>\n",
       "      <td>426.96</td>\n",
       "      <td>0.0</td>\n",
       "      <td>0.0</td>\n",
       "      <td>Verified</td>\n",
       "      <td>12986</td>\n",
       "      <td>RENT</td>\n",
       "      <td>17.0</td>\n",
       "      <td>...</td>\n",
       "      <td>46.4</td>\n",
       "      <td>B5</td>\n",
       "      <td>0.0</td>\n",
       "      <td>0.0</td>\n",
       "      <td>2.0</td>\n",
       "      <td>0.0</td>\n",
       "      <td>36 months</td>\n",
       "      <td>24.24</td>\n",
       "      <td>11.22</td>\n",
       "      <td>FL</td>\n",
       "    </tr>\n",
       "    <tr>\n",
       "      <th>4</th>\n",
       "      <td>739</td>\n",
       "      <td>735</td>\n",
       "      <td>0.0</td>\n",
       "      <td>544.29</td>\n",
       "      <td>0.0</td>\n",
       "      <td>0.0</td>\n",
       "      <td>Not Verified</td>\n",
       "      <td>13446</td>\n",
       "      <td>MORTGAGE</td>\n",
       "      <td>30.0</td>\n",
       "      <td>...</td>\n",
       "      <td>24.3</td>\n",
       "      <td>B5</td>\n",
       "      <td>0.0</td>\n",
       "      <td>0.0</td>\n",
       "      <td>3.0</td>\n",
       "      <td>0.0</td>\n",
       "      <td>36 months</td>\n",
       "      <td>22.22</td>\n",
       "      <td>13.67</td>\n",
       "      <td>FL</td>\n",
       "    </tr>\n",
       "  </tbody>\n",
       "</table>\n",
       "<p>5 rows × 26 columns</p>\n",
       "</div>"
      ],
      "text/plain": [
       "   fico_range_high  fico_range_low  acc_now_delinq  installment  \\\n",
       "0              689             685             0.0       788.84   \n",
       "1              719             715             0.0       733.38   \n",
       "2              669             665             0.0       258.13   \n",
       "3              714             710             0.0       426.96   \n",
       "4              739             735             0.0       544.29   \n",
       "\n",
       "   collections_12_mths_ex_med  tax_liens verification_status  revol_bal  \\\n",
       "0                         0.0        0.0            Verified       4697   \n",
       "1                         0.0        0.0            Verified       7265   \n",
       "2                         0.0        0.0        Not Verified      27092   \n",
       "3                         0.0        0.0            Verified      12986   \n",
       "4                         0.0        0.0        Not Verified      13446   \n",
       "\n",
       "  home_ownership  total_acc  ...  revol_util  sub_grade  delinq_amnt  \\\n",
       "0       MORTGAGE       23.0  ...        54.0         F1          0.0   \n",
       "1       MORTGAGE       25.0  ...        53.8         C5          0.0   \n",
       "2       MORTGAGE       27.0  ...        80.4         C4          0.0   \n",
       "3           RENT       17.0  ...        46.4         B5          0.0   \n",
       "4       MORTGAGE       30.0  ...        24.3         B5          0.0   \n",
       "\n",
       "  chargeoff_within_12_mths  inq_last_6mths  pub_rec        term    dti  \\\n",
       "0                      0.0             4.0      0.0   60 months  23.28   \n",
       "1                      0.0             2.0      0.0   60 months  13.94   \n",
       "2                      0.0             0.0      0.0   36 months  14.60   \n",
       "3                      0.0             2.0      0.0   36 months  24.24   \n",
       "4                      0.0             3.0      0.0   36 months  22.22   \n",
       "\n",
       "   int_rate  addr_state  \n",
       "0     28.69          GA  \n",
       "1     16.24          IL  \n",
       "2     14.49          AZ  \n",
       "3     11.22          FL  \n",
       "4     13.67          FL  \n",
       "\n",
       "[5 rows x 26 columns]"
      ]
     },
     "execution_count": 9,
     "metadata": {},
     "output_type": "execute_result"
    }
   ],
   "source": [
    "# set the target variable\n",
    "loans_outcome = filtered_loans[outcome]\n",
    "\n",
    "# reset \"loans\" dataset by only including the features in the pool\n",
    "filtered_loans = filtered_loans[feature_pool]\n",
    "\n",
    "filtered_loans.head(5)"
   ]
  },
  {
   "cell_type": "markdown",
   "metadata": {},
   "source": [
    "* Identify which columns are not numerical type"
   ]
  },
  {
   "cell_type": "code",
   "execution_count": 10,
   "metadata": {},
   "outputs": [
    {
     "name": "stdout",
     "output_type": "stream",
     "text": [
      "['verification_status', 'home_ownership', 'purpose', 'sub_grade', 'term', 'addr_state']\n"
     ]
    }
   ],
   "source": [
    "# List the types of all fields\n",
    "filtered_loans.dtypes\n",
    "\n",
    "# List non-numeric data\n",
    "non_numeric_fields = filtered_loans.select_dtypes(exclude = ['int64', 'float64']).columns.tolist()\n",
    "\n",
    "print(non_numeric_fields)"
   ]
  },
  {
   "cell_type": "markdown",
   "metadata": {},
   "source": [
    "At this stage, you will find the following variables to be categorical: `home_ownership`, `term`, `sub_grade`, `addr_state`, `verification_status`, and `purpose`"
   ]
  },
  {
   "cell_type": "markdown",
   "metadata": {},
   "source": [
    "* Pre-process the categorical variables by dealing with the outliers so that each value is not too rare in the data\n",
    "  *  Proprocessing rules: \n",
    "     * For the variable `home_ownership`, rename the values of 'ANY and 'NONE' to 'OTHER'\n",
    "     * For the variable `purpose`, rename the values of 'renewable_energy' and 'educational' to 'other'\n",
    "     * For the variable `sub_grade`, rename the values of 'G1', 'G2', 'G3', 'G4', 'G5' to 'G'\n"
   ]
  },
  {
   "cell_type": "code",
   "execution_count": 11,
   "metadata": {},
   "outputs": [],
   "source": [
    "# For all values of the 'home_ownership' variable that are 'ANY' or 'NONE', rename them to 'OTHER'\n",
    "filtered_loans.home_ownership.loc[(filtered_loans['home_ownership'] == 'ANY') | (filtered_loans['home_ownership'] == 'NONE')] = 'OTHER'\n",
    "\n",
    "# For all values of the 'purpose' variable that are 'renewable_energy' or 'educational', rename them to 'other'\n",
    "filtered_loans.purpose.loc[(filtered_loans['purpose'] == 'renewable_energy') | (filtered_loans['purpose'] == 'educational')] = 'other'\n",
    "\n",
    "# For all values of the 'sub_grade' variable that are 'G1', 'G2', 'G3', 'G4', or 'G5', rename them to 'G'\n",
    "sub_grades_list = ['G1', 'G2', 'G3', 'G4', 'G5']\n",
    "filtered_loans.sub_grade.loc[filtered_loans.sub_grade.isin(sub_grades_list)] = 'G'"
   ]
  },
  {
   "cell_type": "markdown",
   "metadata": {},
   "source": [
    "* Transform categorical variables into numerical values\n",
    "\n",
    "* Rules:\n",
    " * For every categorical variable with k alternatives, please replace it with k-1 dummy variables using one-hot encoding.\n",
    " * For example, '*home_ownership*' take value from four values: '**OWN**', '**RENT**', '**NONE**', '**MORTGAGE**', and '**OTHER**'. Create four dummies for '*home_ownership*' using one-hot encoding. Then drop the column \"*home_ownership*\", plus one of the four dummies to avoid the **multicollinearity** issue. Finally, integrate the three dummies to dataset. \n",
    " * For other categorical variables, you may follow a similar process. \n",
    " * You may find the method <a href=\"https://pandas.pydata.org/pandas-docs/stable/reference/api/pandas.get_dummies.html\" target=\"_blank\" class=\"btn btn-success\" role=\"button\" style=\"text-decoration: none\">get_dummies()</a> useful to automate the process.\n",
    " \n"
   ]
  },
  {
   "cell_type": "code",
   "execution_count": 12,
   "metadata": {},
   "outputs": [
    {
     "data": {
      "text/html": [
       "<div>\n",
       "<style scoped>\n",
       "    .dataframe tbody tr th:only-of-type {\n",
       "        vertical-align: middle;\n",
       "    }\n",
       "\n",
       "    .dataframe tbody tr th {\n",
       "        vertical-align: top;\n",
       "    }\n",
       "\n",
       "    .dataframe thead th {\n",
       "        text-align: right;\n",
       "    }\n",
       "</style>\n",
       "<table border=\"1\" class=\"dataframe\">\n",
       "  <thead>\n",
       "    <tr style=\"text-align: right;\">\n",
       "      <th></th>\n",
       "      <th>fico_range_high</th>\n",
       "      <th>fico_range_low</th>\n",
       "      <th>acc_now_delinq</th>\n",
       "      <th>installment</th>\n",
       "      <th>collections_12_mths_ex_med</th>\n",
       "      <th>tax_liens</th>\n",
       "      <th>revol_bal</th>\n",
       "      <th>total_acc</th>\n",
       "      <th>annual_inc</th>\n",
       "      <th>delinq_2yrs</th>\n",
       "      <th>...</th>\n",
       "      <th>addr_state_SD</th>\n",
       "      <th>addr_state_TN</th>\n",
       "      <th>addr_state_TX</th>\n",
       "      <th>addr_state_UT</th>\n",
       "      <th>addr_state_VA</th>\n",
       "      <th>addr_state_VT</th>\n",
       "      <th>addr_state_WA</th>\n",
       "      <th>addr_state_WI</th>\n",
       "      <th>addr_state_WV</th>\n",
       "      <th>addr_state_WY</th>\n",
       "    </tr>\n",
       "  </thead>\n",
       "  <tbody>\n",
       "    <tr>\n",
       "      <th>0</th>\n",
       "      <td>689</td>\n",
       "      <td>685</td>\n",
       "      <td>0.0</td>\n",
       "      <td>788.84</td>\n",
       "      <td>0.0</td>\n",
       "      <td>0.0</td>\n",
       "      <td>4697</td>\n",
       "      <td>23.0</td>\n",
       "      <td>75200.0</td>\n",
       "      <td>0.0</td>\n",
       "      <td>...</td>\n",
       "      <td>0</td>\n",
       "      <td>0</td>\n",
       "      <td>0</td>\n",
       "      <td>0</td>\n",
       "      <td>0</td>\n",
       "      <td>0</td>\n",
       "      <td>0</td>\n",
       "      <td>0</td>\n",
       "      <td>0</td>\n",
       "      <td>0</td>\n",
       "    </tr>\n",
       "    <tr>\n",
       "      <th>1</th>\n",
       "      <td>719</td>\n",
       "      <td>715</td>\n",
       "      <td>0.0</td>\n",
       "      <td>733.38</td>\n",
       "      <td>0.0</td>\n",
       "      <td>0.0</td>\n",
       "      <td>7265</td>\n",
       "      <td>25.0</td>\n",
       "      <td>72900.0</td>\n",
       "      <td>0.0</td>\n",
       "      <td>...</td>\n",
       "      <td>0</td>\n",
       "      <td>0</td>\n",
       "      <td>0</td>\n",
       "      <td>0</td>\n",
       "      <td>0</td>\n",
       "      <td>0</td>\n",
       "      <td>0</td>\n",
       "      <td>0</td>\n",
       "      <td>0</td>\n",
       "      <td>0</td>\n",
       "    </tr>\n",
       "    <tr>\n",
       "      <th>2</th>\n",
       "      <td>669</td>\n",
       "      <td>665</td>\n",
       "      <td>0.0</td>\n",
       "      <td>258.13</td>\n",
       "      <td>0.0</td>\n",
       "      <td>0.0</td>\n",
       "      <td>27092</td>\n",
       "      <td>27.0</td>\n",
       "      <td>180000.0</td>\n",
       "      <td>1.0</td>\n",
       "      <td>...</td>\n",
       "      <td>0</td>\n",
       "      <td>0</td>\n",
       "      <td>0</td>\n",
       "      <td>0</td>\n",
       "      <td>0</td>\n",
       "      <td>0</td>\n",
       "      <td>0</td>\n",
       "      <td>0</td>\n",
       "      <td>0</td>\n",
       "      <td>0</td>\n",
       "    </tr>\n",
       "    <tr>\n",
       "      <th>3</th>\n",
       "      <td>714</td>\n",
       "      <td>710</td>\n",
       "      <td>0.0</td>\n",
       "      <td>426.96</td>\n",
       "      <td>0.0</td>\n",
       "      <td>0.0</td>\n",
       "      <td>12986</td>\n",
       "      <td>17.0</td>\n",
       "      <td>61000.0</td>\n",
       "      <td>0.0</td>\n",
       "      <td>...</td>\n",
       "      <td>0</td>\n",
       "      <td>0</td>\n",
       "      <td>0</td>\n",
       "      <td>0</td>\n",
       "      <td>0</td>\n",
       "      <td>0</td>\n",
       "      <td>0</td>\n",
       "      <td>0</td>\n",
       "      <td>0</td>\n",
       "      <td>0</td>\n",
       "    </tr>\n",
       "    <tr>\n",
       "      <th>4</th>\n",
       "      <td>739</td>\n",
       "      <td>735</td>\n",
       "      <td>0.0</td>\n",
       "      <td>544.29</td>\n",
       "      <td>0.0</td>\n",
       "      <td>0.0</td>\n",
       "      <td>13446</td>\n",
       "      <td>30.0</td>\n",
       "      <td>55000.0</td>\n",
       "      <td>0.0</td>\n",
       "      <td>...</td>\n",
       "      <td>0</td>\n",
       "      <td>0</td>\n",
       "      <td>0</td>\n",
       "      <td>0</td>\n",
       "      <td>0</td>\n",
       "      <td>0</td>\n",
       "      <td>0</td>\n",
       "      <td>0</td>\n",
       "      <td>0</td>\n",
       "      <td>0</td>\n",
       "    </tr>\n",
       "  </tbody>\n",
       "</table>\n",
       "<p>5 rows × 116 columns</p>\n",
       "</div>"
      ],
      "text/plain": [
       "   fico_range_high  fico_range_low  acc_now_delinq  installment  \\\n",
       "0              689             685             0.0       788.84   \n",
       "1              719             715             0.0       733.38   \n",
       "2              669             665             0.0       258.13   \n",
       "3              714             710             0.0       426.96   \n",
       "4              739             735             0.0       544.29   \n",
       "\n",
       "   collections_12_mths_ex_med  tax_liens  revol_bal  total_acc  annual_inc  \\\n",
       "0                         0.0        0.0       4697       23.0     75200.0   \n",
       "1                         0.0        0.0       7265       25.0     72900.0   \n",
       "2                         0.0        0.0      27092       27.0    180000.0   \n",
       "3                         0.0        0.0      12986       17.0     61000.0   \n",
       "4                         0.0        0.0      13446       30.0     55000.0   \n",
       "\n",
       "   delinq_2yrs  ...  addr_state_SD  addr_state_TN  addr_state_TX  \\\n",
       "0          0.0  ...              0              0              0   \n",
       "1          0.0  ...              0              0              0   \n",
       "2          1.0  ...              0              0              0   \n",
       "3          0.0  ...              0              0              0   \n",
       "4          0.0  ...              0              0              0   \n",
       "\n",
       "   addr_state_UT  addr_state_VA  addr_state_VT  addr_state_WA  addr_state_WI  \\\n",
       "0              0              0              0              0              0   \n",
       "1              0              0              0              0              0   \n",
       "2              0              0              0              0              0   \n",
       "3              0              0              0              0              0   \n",
       "4              0              0              0              0              0   \n",
       "\n",
       "   addr_state_WV  addr_state_WY  \n",
       "0              0              0  \n",
       "1              0              0  \n",
       "2              0              0  \n",
       "3              0              0  \n",
       "4              0              0  \n",
       "\n",
       "[5 rows x 116 columns]"
      ]
     },
     "execution_count": 12,
     "metadata": {},
     "output_type": "execute_result"
    }
   ],
   "source": [
    "# For every categorical variable with k alternatives, please replace it with k-1 dummy variables using one-hot encoding.\n",
    "category_pool = ['home_ownership', 'term', 'sub_grade', 'verification_status','purpose','addr_state']\n",
    "\n",
    "def split_and_encode(df, cat_list):\n",
    "\n",
    "    for i in range(len(cat_list)):\n",
    "\n",
    "        # K-1 dummy variables OHE to prevent dummy variable trap (MC)\n",
    "        if len(df[cat_list[i]].unique()) > 1:\n",
    "            df = pd.concat([df, pd.get_dummies(df[cat_list[i]], prefix = cat_list[i],  drop_first = True, dtype = 'int64')], axis = 'columns')\n",
    "        \n",
    "        # Dropping the un-encoded categorical variable column\n",
    "        df.drop(cat_list[i], axis = 'columns', inplace = True)\n",
    "\n",
    "    return df\n",
    "\n",
    "loans_with_dummies = split_and_encode(filtered_loans, category_pool)\n",
    "loans_with_dummies.head(5)"
   ]
  },
  {
   "cell_type": "markdown",
   "metadata": {},
   "source": [
    "Now that you have finished the transformation, \n",
    " * Please make sure that all of them are of numerical type.\n",
    " * Also, count and print the number of features now after transformation"
   ]
  },
  {
   "cell_type": "code",
   "execution_count": 13,
   "metadata": {},
   "outputs": [
    {
     "name": "stdout",
     "output_type": "stream",
     "text": [
      "Number of non-numeric fields: 0\n",
      "-------------------\n",
      "Count of features after transformation: 116\n"
     ]
    }
   ],
   "source": [
    "# Ensuring that all datatypes are numeric\n",
    "loans_with_dummies.dtypes\n",
    "non_numeric_fields_2 = loans_with_dummies.select_dtypes(exclude = ['int64', 'float64']).columns.tolist()\n",
    "\n",
    "print('Number of non-numeric fields: ' + str(len(non_numeric_fields_2))) \n",
    "\n",
    "print('-------------------')\n",
    "\n",
    "# Count the number of features now after transformation\n",
    "\n",
    "print('Count of features after transformation: ' + str(len(loans_with_dummies.columns.tolist())))\n",
    "\n",
    "# All fields should be of numerical types by this stage."
   ]
  },
  {
   "cell_type": "markdown",
   "metadata": {},
   "source": [
    "* Check for missing values: count how many missing values there are in every column of the dataframe *loans*."
   ]
  },
  {
   "cell_type": "code",
   "execution_count": 14,
   "metadata": {},
   "outputs": [
    {
     "name": "stdout",
     "output_type": "stream",
     "text": [
      "Count of missing values in descending order\n",
      "-------------------\n",
      "revol_util                    8\n",
      "pub_rec_bankruptcies          8\n",
      "chargeoff_within_12_mths      1\n",
      "collections_12_mths_ex_med    1\n",
      "tax_liens                     1\n",
      "                             ..\n",
      "addr_state_KS                 0\n",
      "addr_state_KY                 0\n",
      "addr_state_LA                 0\n",
      "addr_state_MA                 0\n",
      "fico_range_high               0\n",
      "Length: 116, dtype: int64\n",
      "-------------------\n",
      "List of columns with missing values: ['collections_12_mths_ex_med', 'tax_liens', 'pub_rec_bankruptcies', 'revol_util', 'chargeoff_within_12_mths', 'dti']\n"
     ]
    }
   ],
   "source": [
    "# Count how many missing values there are in every column of the dataframe loans.\n",
    "print('Count of missing values in descending order')\n",
    "\n",
    "print('-------------------')\n",
    "print(loans_with_dummies.isna().sum().sort_values(ascending = False))\n",
    "\n",
    "print('-------------------')\n",
    "\n",
    "# Obtaining list of columns with missing values \n",
    "columns_with_missing_values = loans_with_dummies.columns[loans_with_dummies.isna().any()].tolist()\n",
    "print('List of columns with missing values: ' + str(columns_with_missing_values))"
   ]
  },
  {
   "cell_type": "markdown",
   "metadata": {},
   "source": [
    "At this stage, you will find that the only variable with missing values is `tax_liens`, `revol_util`, `dti`, `collections_12_mths_ex_med`, `chargeoff_within_12_mths` and `pub_rec_bankruptcies`"
   ]
  },
  {
   "cell_type": "markdown",
   "metadata": {},
   "source": [
    "* Fill in the missing values: \n",
    " * First, use its **median**  fill the missing values of those fields. You may find the the method <a href=\"https://pandas.pydata.org/pandas-docs/stable/reference/api/pandas.DataFrame.fillna.html\" target=\"_blank\" class=\"btn btn-success\" role=\"button\" style=\"text-decoration: none\">DataFrame.fillna()</a> useful to automate the process.\n",
    " * Then, check again whether there are any missing values\n",
    "\n",
    "<div class=\"alert alert-warning\">\n",
    "<b>Note: </b> When you use fillna(), be careful with <B>replace</B> parameter because you need to modify the original variable but not a review.    \n",
    "</div>"
   ]
  },
  {
   "cell_type": "code",
   "execution_count": 15,
   "metadata": {},
   "outputs": [],
   "source": [
    "variables_to_complete = ['tax_liens','revol_util', 'dti', 'collections_12_mths_ex_med', 'chargeoff_within_12_mths', 'pub_rec_bankruptcies']\n",
    "\n",
    "# Process missing values: use the median value of each field to fill in the missing values\n",
    "def fill_with_median(df, var_list):\n",
    "    for i in var_list:\n",
    "        df[i] = df[i].fillna(df[i].median())\n",
    "    return df\n",
    "\n",
    "# Create a loans_final df and check replacement\n",
    "loans_final = fill_with_median(loans_with_dummies, variables_to_complete)"
   ]
  },
  {
   "cell_type": "code",
   "execution_count": 16,
   "metadata": {},
   "outputs": [
    {
     "name": "stdout",
     "output_type": "stream",
     "text": [
      "Count of new missing values in descending order\n",
      "-------------------\n",
      "addr_state_WY      0\n",
      "sub_grade_D5       0\n",
      "sub_grade_B3       0\n",
      "sub_grade_B4       0\n",
      "sub_grade_B5       0\n",
      "                  ..\n",
      "addr_state_KS      0\n",
      "addr_state_KY      0\n",
      "addr_state_LA      0\n",
      "addr_state_MA      0\n",
      "fico_range_high    0\n",
      "Length: 116, dtype: int64\n",
      "-------------------\n",
      "Final list of columns with missing values: []\n"
     ]
    }
   ],
   "source": [
    "# check again whether there are any missing values\n",
    "print('Count of new missing values in descending order')\n",
    "\n",
    "print('-------------------')\n",
    "print(loans_final.isna().sum().sort_values(ascending = False))\n",
    "\n",
    "print('-------------------')\n",
    "\n",
    "# Obtaining list of columns with missing values \n",
    "columns_with_missing_values_final = loans_final.columns[loans_final.isna().any()].tolist()\n",
    "print('Final list of columns with missing values: ' + str(columns_with_missing_values_final))"
   ]
  },
  {
   "cell_type": "markdown",
   "metadata": {},
   "source": [
    "While we do not proceed further here, it is worth mentioning that there are further ways to \"cleverly\" select the features. For further read, you may find the discussion in <a href=\"https://scikit-learn.org/stable/modules/feature_selection.html\" target=\"_blank\" class=\"btn btn-success\" role=\"button\" style=\"text-decoration: none\">Feature Selection</a> useful."
   ]
  },
  {
   "cell_type": "markdown",
   "metadata": {},
   "source": [
    "### 1.4 Data Splitting\n",
    "* Randomly split the pre-processed loan data into training, validation and test set.\n",
    " * First, randomly shuffle the data using `np.random.RandomState(seed=42).permutation(n)`.  The random seed has been set to `seed = 42` to make sure the result is replicatable. \n",
    "   * The data shuffling has been done for you.\n",
    " * Second, assign each row to the train/validation/test set according to the following rule:\n",
    "   * For rows 0-6999 (inclusive): assign them to the training set\n",
    "   * For rows 7000-9999 (inclusive): assign them to the validation set\n",
    "   * For the rest of the rows: assign them to the test set\n",
    "  \n"
   ]
  },
  {
   "cell_type": "code",
   "execution_count": 17,
   "metadata": {},
   "outputs": [
    {
     "data": {
      "text/html": [
       "<div>\n",
       "<style scoped>\n",
       "    .dataframe tbody tr th:only-of-type {\n",
       "        vertical-align: middle;\n",
       "    }\n",
       "\n",
       "    .dataframe tbody tr th {\n",
       "        vertical-align: top;\n",
       "    }\n",
       "\n",
       "    .dataframe thead th {\n",
       "        text-align: right;\n",
       "    }\n",
       "</style>\n",
       "<table border=\"1\" class=\"dataframe\">\n",
       "  <thead>\n",
       "    <tr style=\"text-align: right;\">\n",
       "      <th></th>\n",
       "      <th>fico_range_high</th>\n",
       "      <th>fico_range_low</th>\n",
       "      <th>acc_now_delinq</th>\n",
       "      <th>installment</th>\n",
       "      <th>collections_12_mths_ex_med</th>\n",
       "      <th>tax_liens</th>\n",
       "      <th>revol_bal</th>\n",
       "      <th>total_acc</th>\n",
       "      <th>annual_inc</th>\n",
       "      <th>delinq_2yrs</th>\n",
       "      <th>...</th>\n",
       "      <th>addr_state_TN</th>\n",
       "      <th>addr_state_TX</th>\n",
       "      <th>addr_state_UT</th>\n",
       "      <th>addr_state_VA</th>\n",
       "      <th>addr_state_VT</th>\n",
       "      <th>addr_state_WA</th>\n",
       "      <th>addr_state_WI</th>\n",
       "      <th>addr_state_WV</th>\n",
       "      <th>addr_state_WY</th>\n",
       "      <th>loan_status</th>\n",
       "    </tr>\n",
       "  </thead>\n",
       "  <tbody>\n",
       "    <tr>\n",
       "      <th>0</th>\n",
       "      <td>719</td>\n",
       "      <td>715</td>\n",
       "      <td>0.0</td>\n",
       "      <td>289.14</td>\n",
       "      <td>0.0</td>\n",
       "      <td>0.0</td>\n",
       "      <td>10802</td>\n",
       "      <td>17.0</td>\n",
       "      <td>62500.0</td>\n",
       "      <td>0.0</td>\n",
       "      <td>...</td>\n",
       "      <td>0</td>\n",
       "      <td>0</td>\n",
       "      <td>0</td>\n",
       "      <td>0</td>\n",
       "      <td>0</td>\n",
       "      <td>0</td>\n",
       "      <td>0</td>\n",
       "      <td>0</td>\n",
       "      <td>0</td>\n",
       "      <td>1</td>\n",
       "    </tr>\n",
       "    <tr>\n",
       "      <th>1</th>\n",
       "      <td>694</td>\n",
       "      <td>690</td>\n",
       "      <td>0.0</td>\n",
       "      <td>305.31</td>\n",
       "      <td>0.0</td>\n",
       "      <td>0.0</td>\n",
       "      <td>2981</td>\n",
       "      <td>29.0</td>\n",
       "      <td>60000.0</td>\n",
       "      <td>0.0</td>\n",
       "      <td>...</td>\n",
       "      <td>0</td>\n",
       "      <td>0</td>\n",
       "      <td>0</td>\n",
       "      <td>0</td>\n",
       "      <td>0</td>\n",
       "      <td>0</td>\n",
       "      <td>0</td>\n",
       "      <td>0</td>\n",
       "      <td>0</td>\n",
       "      <td>1</td>\n",
       "    </tr>\n",
       "    <tr>\n",
       "      <th>2</th>\n",
       "      <td>679</td>\n",
       "      <td>675</td>\n",
       "      <td>0.0</td>\n",
       "      <td>864.80</td>\n",
       "      <td>0.0</td>\n",
       "      <td>0.0</td>\n",
       "      <td>104954</td>\n",
       "      <td>32.0</td>\n",
       "      <td>135000.0</td>\n",
       "      <td>0.0</td>\n",
       "      <td>...</td>\n",
       "      <td>0</td>\n",
       "      <td>0</td>\n",
       "      <td>0</td>\n",
       "      <td>0</td>\n",
       "      <td>0</td>\n",
       "      <td>0</td>\n",
       "      <td>0</td>\n",
       "      <td>0</td>\n",
       "      <td>0</td>\n",
       "      <td>0</td>\n",
       "    </tr>\n",
       "    <tr>\n",
       "      <th>3</th>\n",
       "      <td>689</td>\n",
       "      <td>685</td>\n",
       "      <td>0.0</td>\n",
       "      <td>566.52</td>\n",
       "      <td>0.0</td>\n",
       "      <td>0.0</td>\n",
       "      <td>5568</td>\n",
       "      <td>57.0</td>\n",
       "      <td>56000.0</td>\n",
       "      <td>0.0</td>\n",
       "      <td>...</td>\n",
       "      <td>0</td>\n",
       "      <td>0</td>\n",
       "      <td>0</td>\n",
       "      <td>0</td>\n",
       "      <td>0</td>\n",
       "      <td>0</td>\n",
       "      <td>0</td>\n",
       "      <td>0</td>\n",
       "      <td>0</td>\n",
       "      <td>1</td>\n",
       "    </tr>\n",
       "    <tr>\n",
       "      <th>4</th>\n",
       "      <td>704</td>\n",
       "      <td>700</td>\n",
       "      <td>0.0</td>\n",
       "      <td>240.59</td>\n",
       "      <td>0.0</td>\n",
       "      <td>0.0</td>\n",
       "      <td>15185</td>\n",
       "      <td>20.0</td>\n",
       "      <td>49000.0</td>\n",
       "      <td>0.0</td>\n",
       "      <td>...</td>\n",
       "      <td>0</td>\n",
       "      <td>0</td>\n",
       "      <td>0</td>\n",
       "      <td>1</td>\n",
       "      <td>0</td>\n",
       "      <td>0</td>\n",
       "      <td>0</td>\n",
       "      <td>0</td>\n",
       "      <td>0</td>\n",
       "      <td>1</td>\n",
       "    </tr>\n",
       "  </tbody>\n",
       "</table>\n",
       "<p>5 rows × 117 columns</p>\n",
       "</div>"
      ],
      "text/plain": [
       "   fico_range_high  fico_range_low  acc_now_delinq  installment  \\\n",
       "0              719             715             0.0       289.14   \n",
       "1              694             690             0.0       305.31   \n",
       "2              679             675             0.0       864.80   \n",
       "3              689             685             0.0       566.52   \n",
       "4              704             700             0.0       240.59   \n",
       "\n",
       "   collections_12_mths_ex_med  tax_liens  revol_bal  total_acc  annual_inc  \\\n",
       "0                         0.0        0.0      10802       17.0     62500.0   \n",
       "1                         0.0        0.0       2981       29.0     60000.0   \n",
       "2                         0.0        0.0     104954       32.0    135000.0   \n",
       "3                         0.0        0.0       5568       57.0     56000.0   \n",
       "4                         0.0        0.0      15185       20.0     49000.0   \n",
       "\n",
       "   delinq_2yrs  ...  addr_state_TN  addr_state_TX  addr_state_UT  \\\n",
       "0          0.0  ...              0              0              0   \n",
       "1          0.0  ...              0              0              0   \n",
       "2          0.0  ...              0              0              0   \n",
       "3          0.0  ...              0              0              0   \n",
       "4          0.0  ...              0              0              0   \n",
       "\n",
       "   addr_state_VA  addr_state_VT  addr_state_WA  addr_state_WI  addr_state_WV  \\\n",
       "0              0              0              0              0              0   \n",
       "1              0              0              0              0              0   \n",
       "2              0              0              0              0              0   \n",
       "3              0              0              0              0              0   \n",
       "4              1              0              0              0              0   \n",
       "\n",
       "   addr_state_WY  loan_status  \n",
       "0              0            1  \n",
       "1              0            1  \n",
       "2              0            0  \n",
       "3              0            1  \n",
       "4              0            1  \n",
       "\n",
       "[5 rows x 117 columns]"
      ]
     },
     "execution_count": 17,
     "metadata": {},
     "output_type": "execute_result"
    }
   ],
   "source": [
    "# Join back the target column before randomising\n",
    "loans = pd.concat([loans_final, loans_outcome], axis = 'columns')\n",
    "\n",
    "# Randomly shuffle the data. This step has been done for you.\n",
    "n = len(loans)\n",
    "random_index = np.random.RandomState(seed=42).permutation(n)\n",
    "loans = loans.iloc[random_index]\n",
    "loans.reset_index(drop=True, inplace=True)\n",
    "\n",
    "loans.head(5)"
   ]
  },
  {
   "cell_type": "code",
   "execution_count": 18,
   "metadata": {},
   "outputs": [],
   "source": [
    "# Split the pre-processed loan data into training, validation and test set\n",
    "# Suggestion: any deletion of rows could be followed by reset_index to avoid such indexing issues later in the processing\n",
    "train, val, test = loans.iloc[0:7000], loans.iloc[7000:10000], loans.iloc[10000:]"
   ]
  },
  {
   "cell_type": "markdown",
   "metadata": {},
   "source": [
    "### 1.5 Data re-scaling\n",
    "* Scale the training, validation, and test data sets. \n",
    " * First, further split the training, validation, and test data sets into `X_train`, `X_val`, `X_test`, `y_train`, `y_val` and `y_test`\n",
    " * Then, scale the feature information off all three datasets based on the mean and standard deviations of the training set \n",
    "   \n",
    "This step is similar to what we did in the lecture. Note that scaling is important in improving the numerical stability.\n",
    "\n",
    "<div class=\"alert alert-warning\">\n",
    "<b>Note: </b> In later parts of this assignment, we will also be using the unscaled version of the feature data. So please keep a copy of the unscaled features using the <a href=\"https://pandas.pydata.org/docs/reference/api/pandas.DataFrame.copy.html\" target=\"_blank\" class=\"btn btn-success\" role=\"button\" style=\"text-decoration: none\">copy()</a> method. (Or, you can keep the scaling coefficients so that you can transform the scaled data back to the unscaled ones.)\n",
    "</div>"
   ]
  },
  {
   "cell_type": "code",
   "execution_count": 19,
   "metadata": {},
   "outputs": [],
   "source": [
    "# Remove target column to create feature only dataset: 'X_train', 'X_val', and 'X_test', respectively \n",
    "X_train = train.drop('loan_status', 1)\n",
    "X_val = val.drop('loan_status', 1)\n",
    "X_test = test.drop('loan_status', 1)\n",
    "\n",
    "# Keep a copy of the unscaled features using the \".copy()\" method, and name them 'X_train_unscale', 'X_val_unscale', and 'X_test_unscale', respectively\n",
    "X_train_unscale, X_val_unscale, X_test_unscale = X_train.copy(), X_val.copy(), X_test.copy()\n",
    "\n",
    "# Scale 'X_train', 'X_val', and 'X_test' data using the mean and standard deviation of the training set. \n",
    "X_test=(X_test-X_train.mean())/X_train.std()\n",
    "X_val=(X_val-X_train.mean())/X_train.std()\n",
    "X_train=(X_train-X_train.mean())/X_train.std()\n",
    "\n",
    "\n",
    "# Store target column as y-variables in the following datasets: 'y_train', 'y_val', and 'y_test'\n",
    "y_train = train['loan_status']\n",
    "y_val = val['loan_status']\n",
    "y_test = test['loan_status']\n"
   ]
  },
  {
   "cell_type": "markdown",
   "metadata": {},
   "source": [
    "### 1.6  Summary\n",
    "* Please print the following:\n",
    "  * The first five instances for training, validation, and test data sets, respectively\n",
    "  * The percentages of all outcome levels for each data set\n",
    "  * The shapes of the split datasets\n",
    "  * Feature names"
   ]
  },
  {
   "cell_type": "code",
   "execution_count": 20,
   "metadata": {},
   "outputs": [
    {
     "name": "stdout",
     "output_type": "stream",
     "text": [
      "Training data: \n",
      "   fico_range_high  fico_range_low  acc_now_delinq  installment  \\\n",
      "0         0.632298        0.632335       -0.069226    -0.571987   \n",
      "1        -0.166243       -0.166241       -0.069226    -0.507801   \n",
      "2        -0.645367       -0.645386       -0.069226     1.713049   \n",
      "3        -0.325951       -0.325956       -0.069226     0.529051   \n",
      "4         0.153174        0.153190       -0.069226    -0.764702   \n",
      "\n",
      "   collections_12_mths_ex_med  tax_liens  revol_bal  total_acc  annual_inc  \\\n",
      "0                   -0.120641  -0.143146  -0.266121  -0.698690   -0.236840   \n",
      "1                   -0.120641  -0.143146  -0.669710   0.310075   -0.283198   \n",
      "2                   -0.120641  -0.143146   4.592428   0.562267    1.107559   \n",
      "3                   -0.120641  -0.143146  -0.536212   2.663861   -0.357372   \n",
      "4                   -0.120641  -0.143146  -0.039944  -0.446499   -0.487176   \n",
      "\n",
      "   delinq_2yrs  ...  addr_state_SD  addr_state_TN  addr_state_TX  \\\n",
      "0    -0.361361  ...      -0.041437      -0.126344       -0.29572   \n",
      "1    -0.361361  ...      -0.041437      -0.126344       -0.29572   \n",
      "2    -0.361361  ...      -0.041437      -0.126344       -0.29572   \n",
      "3    -0.361361  ...      -0.041437      -0.126344       -0.29572   \n",
      "4    -0.361361  ...      -0.041437      -0.126344       -0.29572   \n",
      "\n",
      "   addr_state_UT  addr_state_VA  addr_state_VT  addr_state_WA  addr_state_WI  \\\n",
      "0      -0.095291      -0.171045      -0.050771      -0.146957      -0.110862   \n",
      "1      -0.095291      -0.171045      -0.050771      -0.146957      -0.110862   \n",
      "2      -0.095291      -0.171045      -0.050771      -0.146957      -0.110862   \n",
      "3      -0.095291      -0.171045      -0.050771      -0.146957      -0.110862   \n",
      "4      -0.095291       5.845596      -0.050771      -0.146957      -0.110862   \n",
      "\n",
      "   addr_state_WV  addr_state_WY  \n",
      "0      -0.069858      -0.049337  \n",
      "1      -0.069858      -0.049337  \n",
      "2      -0.069858      -0.049337  \n",
      "3      -0.069858      -0.049337  \n",
      "4      -0.069858      -0.049337  \n",
      "\n",
      "[5 rows x 116 columns]\n",
      "\n",
      "Percentage of all outcomes: \n",
      "1    77.314286\n",
      "0    22.685714\n",
      "Name: loan_status, dtype: float64\n"
     ]
    }
   ],
   "source": [
    "# Print the first five instances for training, validation, and test data sets, respectively, as well as the percentages of all outcome levels\n",
    "print('Training data: ')\n",
    "print(X_train.head(5))\n",
    "\n",
    "# Frequency of different classes in training set\n",
    "freq = y_train.value_counts()           \n",
    "print('\\nPercentage of all outcomes: ' )                     \n",
    "print(freq/sum(freq)*100) "
   ]
  },
  {
   "cell_type": "code",
   "execution_count": 21,
   "metadata": {},
   "outputs": [
    {
     "name": "stdout",
     "output_type": "stream",
     "text": [
      "-------------------\n",
      "Validation data: \n",
      "      fico_range_high  fico_range_low  acc_now_delinq  installment  \\\n",
      "7000        -0.166243       -0.166241       -0.069226     1.356238   \n",
      "7001        -1.124492       -1.124532       -0.069226    -1.318516   \n",
      "7002         0.792007        0.792051       -0.069226    -0.285236   \n",
      "7003        -0.645367       -0.645386       -0.069226     1.043130   \n",
      "7004         0.472590        0.472620       -0.069226     2.022386   \n",
      "\n",
      "      collections_12_mths_ex_med  tax_liens  revol_bal  total_acc  annual_inc  \\\n",
      "7000                   -0.120641  -0.143146   0.211003   0.057884   -0.209025   \n",
      "7001                   -0.120641  -0.143146  -0.490182  -1.034945   -0.969305   \n",
      "7002                   -0.120641  -0.143146  -0.244241  -1.203073   -0.005047   \n",
      "7003                   -0.120641   2.978411  -0.250588  -0.950881    0.087670   \n",
      "7004                   -0.120641  -0.143146   1.187130  -0.278371    0.736690   \n",
      "\n",
      "      delinq_2yrs  ...  addr_state_SD  addr_state_TN  addr_state_TX  \\\n",
      "7000    -0.361361  ...      -0.041437      -0.126344       -0.29572   \n",
      "7001    -0.361361  ...      -0.041437      -0.126344       -0.29572   \n",
      "7002    -0.361361  ...      -0.041437      -0.126344       -0.29572   \n",
      "7003    -0.361361  ...      -0.041437      -0.126344       -0.29572   \n",
      "7004    -0.361361  ...      -0.041437      -0.126344       -0.29572   \n",
      "\n",
      "      addr_state_UT  addr_state_VA  addr_state_VT  addr_state_WA  \\\n",
      "7000      -0.095291      -0.171045      -0.050771      -0.146957   \n",
      "7001      -0.095291      -0.171045      -0.050771      -0.146957   \n",
      "7002      -0.095291      -0.171045      -0.050771      -0.146957   \n",
      "7003      -0.095291      -0.171045      -0.050771      -0.146957   \n",
      "7004      -0.095291       5.845596      -0.050771      -0.146957   \n",
      "\n",
      "      addr_state_WI  addr_state_WV  addr_state_WY  \n",
      "7000      -0.110862      -0.069858      -0.049337  \n",
      "7001      -0.110862      -0.069858      -0.049337  \n",
      "7002      -0.110862      -0.069858      -0.049337  \n",
      "7003       9.018942      -0.069858      -0.049337  \n",
      "7004      -0.110862      -0.069858      -0.049337  \n",
      "\n",
      "[5 rows x 116 columns]\n",
      "\n",
      "Percentage of all outcomes: \n",
      "1    76.233333\n",
      "0    23.766667\n",
      "Name: loan_status, dtype: float64\n"
     ]
    }
   ],
   "source": [
    "# Print the first five instances for training, validation, and test data sets, respectively, as well as the percentages of all outcome levels\n",
    "print('-------------------')\n",
    "print('Validation data: ')\n",
    "print(X_val.head(5))\n",
    "\n",
    "# Frequency of different classes in validation set\n",
    "freq = y_val.value_counts()           \n",
    "print('\\nPercentage of all outcomes: ' )                     \n",
    "print(freq/sum(freq)*100)"
   ]
  },
  {
   "cell_type": "code",
   "execution_count": 22,
   "metadata": {},
   "outputs": [
    {
     "name": "stdout",
     "output_type": "stream",
     "text": [
      "-------------------\n",
      "Testing data: \n",
      "       fico_range_high  fico_range_low  acc_now_delinq  installment  \\\n",
      "10000         3.507046        3.507209       -0.069226     1.029674   \n",
      "10001         0.472590        0.472620       -0.069226     1.823439   \n",
      "10002        -0.325951       -0.325956       -0.069226     0.877844   \n",
      "10003        -0.166243       -0.166241       -0.069226    -1.451769   \n",
      "10004         1.750256        1.750342       -0.069226     1.252914   \n",
      "\n",
      "       collections_12_mths_ex_med  tax_liens  revol_bal  total_acc  \\\n",
      "10000                   -0.120641  -0.143146  -0.317156  -0.782754   \n",
      "10001                   -0.120641  -0.143146   1.061682  -0.278371   \n",
      "10002                   -0.120641  -0.143146   0.103668   0.226011   \n",
      "10003                   -0.120641  -0.143146  -0.323813  -0.026180   \n",
      "10004                   -0.120641  -0.143146   5.575366   0.057884   \n",
      "\n",
      "       annual_inc  delinq_2yrs  ...  addr_state_SD  addr_state_TN  \\\n",
      "10000   -0.375915    -0.361361  ...      -0.041437      -0.126344   \n",
      "10001    0.458539    -0.361361  ...      -0.041437      -0.126344   \n",
      "10002    0.458539    -0.361361  ...      -0.041437      -0.126344   \n",
      "10003    0.532712    -0.361361  ...      -0.041437      -0.126344   \n",
      "10004   -0.301742    -0.361361  ...      -0.041437      -0.126344   \n",
      "\n",
      "       addr_state_TX  addr_state_UT  addr_state_VA  addr_state_VT  \\\n",
      "10000      -0.295720      -0.095291      -0.171045      -0.050771   \n",
      "10001       3.381088      -0.095291      -0.171045      -0.050771   \n",
      "10002      -0.295720      -0.095291      -0.171045      -0.050771   \n",
      "10003      -0.295720      -0.095291       5.845596      -0.050771   \n",
      "10004      -0.295720      -0.095291      -0.171045      -0.050771   \n",
      "\n",
      "       addr_state_WA  addr_state_WI  addr_state_WV  addr_state_WY  \n",
      "10000      -0.146957      -0.110862      -0.069858      -0.049337  \n",
      "10001      -0.146957      -0.110862      -0.069858      -0.049337  \n",
      "10002      -0.146957      -0.110862      -0.069858      -0.049337  \n",
      "10003      -0.146957      -0.110862      -0.069858      -0.049337  \n",
      "10004      -0.146957      -0.110862      -0.069858      -0.049337  \n",
      "\n",
      "[5 rows x 116 columns]\n",
      "\n",
      "Percentage of all outcomes: \n",
      "1    77.39726\n",
      "0    22.60274\n",
      "Name: loan_status, dtype: float64\n"
     ]
    }
   ],
   "source": [
    "# Print the first five instances for training, validation, and test data sets, respectively, as well as the percentages of all outcome levels\n",
    "print('-------------------')\n",
    "print('Testing data: ')\n",
    "print(X_test.head(5))\n",
    "\n",
    "# Frequency of different classes in test set\n",
    "freq = y_test.value_counts()           \n",
    "print('\\nPercentage of all outcomes: ' )                     \n",
    "print(freq/sum(freq)*100)"
   ]
  },
  {
   "cell_type": "code",
   "execution_count": 23,
   "metadata": {},
   "outputs": [
    {
     "name": "stdout",
     "output_type": "stream",
     "text": [
      "-------------------\n",
      "Shapes of the split datasets: \n",
      "(7000, 116) (7000,) (3000, 116) (3000,) (2628, 116) (2628,)\n",
      "-------------------\n",
      "Feature names: \n",
      "['fico_range_high' 'fico_range_low' 'acc_now_delinq' 'installment'\n",
      " 'collections_12_mths_ex_med' 'tax_liens' 'revol_bal' 'total_acc'\n",
      " 'annual_inc' 'delinq_2yrs' 'pub_rec_bankruptcies' 'loan_amnt' 'open_acc'\n",
      " 'revol_util' 'delinq_amnt' 'chargeoff_within_12_mths' 'inq_last_6mths'\n",
      " 'pub_rec' 'dti' 'int_rate' 'home_ownership_OTHER' 'home_ownership_OWN'\n",
      " 'home_ownership_RENT' 'term_ 60 months' 'sub_grade_A2' 'sub_grade_A3'\n",
      " 'sub_grade_A4' 'sub_grade_A5' 'sub_grade_B1' 'sub_grade_B2'\n",
      " 'sub_grade_B3' 'sub_grade_B4' 'sub_grade_B5' 'sub_grade_C1'\n",
      " 'sub_grade_C2' 'sub_grade_C3' 'sub_grade_C4' 'sub_grade_C5'\n",
      " 'sub_grade_D1' 'sub_grade_D2' 'sub_grade_D3' 'sub_grade_D4'\n",
      " 'sub_grade_D5' 'sub_grade_E1' 'sub_grade_E2' 'sub_grade_E3'\n",
      " 'sub_grade_E4' 'sub_grade_E5' 'sub_grade_F1' 'sub_grade_F2'\n",
      " 'sub_grade_F3' 'sub_grade_F4' 'sub_grade_F5' 'sub_grade_G'\n",
      " 'verification_status_Source Verified' 'verification_status_Verified'\n",
      " 'purpose_credit_card' 'purpose_debt_consolidation'\n",
      " 'purpose_home_improvement' 'purpose_house' 'purpose_major_purchase'\n",
      " 'purpose_medical' 'purpose_moving' 'purpose_other'\n",
      " 'purpose_small_business' 'purpose_vacation' 'purpose_wedding'\n",
      " 'addr_state_AL' 'addr_state_AR' 'addr_state_AZ' 'addr_state_CA'\n",
      " 'addr_state_CO' 'addr_state_CT' 'addr_state_DC' 'addr_state_DE'\n",
      " 'addr_state_FL' 'addr_state_GA' 'addr_state_HI' 'addr_state_ID'\n",
      " 'addr_state_IL' 'addr_state_IN' 'addr_state_KS' 'addr_state_KY'\n",
      " 'addr_state_LA' 'addr_state_MA' 'addr_state_MD' 'addr_state_ME'\n",
      " 'addr_state_MI' 'addr_state_MN' 'addr_state_MO' 'addr_state_MS'\n",
      " 'addr_state_MT' 'addr_state_NC' 'addr_state_ND' 'addr_state_NE'\n",
      " 'addr_state_NH' 'addr_state_NJ' 'addr_state_NM' 'addr_state_NV'\n",
      " 'addr_state_NY' 'addr_state_OH' 'addr_state_OK' 'addr_state_OR'\n",
      " 'addr_state_PA' 'addr_state_RI' 'addr_state_SC' 'addr_state_SD'\n",
      " 'addr_state_TN' 'addr_state_TX' 'addr_state_UT' 'addr_state_VA'\n",
      " 'addr_state_VT' 'addr_state_WA' 'addr_state_WI' 'addr_state_WV'\n",
      " 'addr_state_WY']\n"
     ]
    }
   ],
   "source": [
    "# Print the shapes of the split datasets\n",
    "print('-------------------')\n",
    "print('Shapes of the split datasets: ')\n",
    "print(X_train.shape, y_train.shape, X_val.shape,y_val.shape, X_test.shape, y_test.shape)\n",
    "\n",
    "\n",
    "# Print the feature names\n",
    "print('-------------------')\n",
    "print('Feature names: ')\n",
    "print(X_train.columns.values)"
   ]
  },
  {
   "cell_type": "markdown",
   "metadata": {},
   "source": [
    "# Part 2. Predicting with (basic) Logistic Regression \n",
    "\n",
    "Let us divide this step into three stage: model training, decision criterion selection, and performance evaluation. The test data should be **only** used in the last stage. "
   ]
  },
  {
   "cell_type": "markdown",
   "metadata": {},
   "source": [
    "### 2.1 Model training\n",
    "* Fit a LogisticRegression model using the training data. \n",
    " * Please use the scikit-learn package <a href=\"https://scikit-learn.org/stable/modules/generated/sklearn.linear_model.LogisticRegression.html\" target=\"_blank\" class=\"btn btn-success\" role=\"button\" style=\"text-decoration: none\">Logistic Regression</a>\n",
    " * The training parameters we use are: \n",
    "   * `penalty=\"none\"` (It means there is no regularization) \n",
    "   *  `solver=\"newton-cg\"` (It means we use the newton-cg method to solve the MLE problem. This is a slightly more advanced algorithm than what we used in class.)\n",
    " * Print the trained coefficients"
   ]
  },
  {
   "cell_type": "code",
   "execution_count": 24,
   "metadata": {},
   "outputs": [
    {
     "name": "stdout",
     "output_type": "stream",
     "text": [
      "The trained coefficients for the logistic regression:\n",
      "[1.45693014] [[ 1.70531127e+02 -1.70308179e+02 -3.88818871e-02 -6.90353127e-01\n",
      "  -5.66144268e-03 -7.45413466e-02  7.44770368e-02  2.18458686e-01\n",
      "   5.98950842e-02 -8.51754237e-02 -8.94467984e-02  6.30721738e-01\n",
      "  -2.10906588e-01  2.03696164e-02  5.01431994e-02  1.26728528e-02\n",
      "  -5.67876004e-02  1.32450501e-01 -2.54391067e-01  6.49209580e-01\n",
      "   3.26794353e-01 -5.27839958e-02 -1.34459282e-01 -4.23680427e-01\n",
      "  -8.92774418e-02 -9.52122831e-02 -1.92897457e-02 -2.00712335e-01\n",
      "  -2.23884718e-01 -2.30990515e-01 -2.86843955e-01 -4.03245151e-01\n",
      "  -4.12499891e-01 -4.44394075e-01 -4.44928418e-01 -5.28811637e-01\n",
      "  -5.78164050e-01 -5.09348990e-01 -4.74192594e-01 -5.17200412e-01\n",
      "  -4.62798283e-01 -5.43817707e-01 -4.41614251e-01 -4.75730443e-01\n",
      "  -4.32239393e-01 -4.54675540e-01 -3.66198134e-01 -4.37507027e-01\n",
      "  -3.13841305e-01 -3.02193432e-01 -2.89162838e-01 -2.84351642e-01\n",
      "  -2.38684632e-01 -3.48615456e-01 -3.00155625e-02 -5.12979890e-02\n",
      "  -1.81205061e-01 -2.48479486e-01 -7.87656607e-02 -1.34087052e-02\n",
      "  -1.07759536e-01 -1.03120544e-01 -1.05719462e-01 -1.34840015e-01\n",
      "  -1.00678507e-01 -5.57055853e-02  8.56380480e-04 -1.45428717e-03\n",
      "  -4.83413804e-02  5.02694982e-02  8.94370990e-02  1.32259602e-01\n",
      "   4.73356440e-02 -1.35868849e-02  5.58451092e-02  3.99006046e-02\n",
      "   3.71057597e-02  1.11635655e-01 -4.55198242e-03  8.85713344e-02\n",
      "   1.46345800e-02  2.39973456e-02  2.92126286e-02  2.78291538e-02\n",
      "   6.04609775e-02  4.21579329e-02  2.25850419e-02  4.11660699e-02\n",
      "   3.82516280e-02  2.73681287e-02 -2.41863657e-02  1.07132658e-01\n",
      "   7.93729927e-02  5.47104951e-03  3.21957271e-03  6.12990561e-02\n",
      "   1.65412834e-03  2.45000318e-04  3.40103901e-02  5.22084821e-02\n",
      "   5.93287328e-02 -2.46256785e-03  7.49595630e-03  9.52362683e-02\n",
      "   4.90957888e-02  3.25837130e-02 -6.39033382e-03  2.56021178e-02\n",
      "   8.40201674e-02  3.31471919e-02  7.16611390e-02 -2.12259522e-02\n",
      "   1.38281465e-01  1.12056057e-01  2.79613255e-02  6.53876240e-02]]\n"
     ]
    }
   ],
   "source": [
    "#Fit a LogisticRegression model using the training data\n",
    "lgstc_reg =  LogisticRegression(penalty=\"none\",solver=\"newton-cg\")  \n",
    "lgstc_reg.fit(X_train, y_train)\n",
    "\n",
    "\n",
    "# Print the estimated coefficients / trained coefficients\n",
    "print('The trained coefficients for the logistic regression:')\n",
    "print(lgstc_reg.intercept_, lgstc_reg.coef_)"
   ]
  },
  {
   "cell_type": "markdown",
   "metadata": {},
   "source": [
    "### 2.2 Decision criterion\n",
    "\n",
    "In this assignment, we will choose the decision criterion based on the validation data according to the expected payoff objective. For simplicity, let us assume that the payoff from a good loan is loan amount times multiplied by the interest rate, and the loss from a bad loan is the loan amount itself. (That is, there is no recovery from a bad loan.) "
   ]
  },
  {
   "cell_type": "markdown",
   "metadata": {},
   "source": [
    "* Please report the following quantities:\n",
    "  * The average interest rate (in percentage number) in the **UNSCALED** training, validation, and test datasets\n",
    "  * The average loan amount (in USD) in the **UNSCALED** training, validation, and test datasets"
   ]
  },
  {
   "cell_type": "code",
   "execution_count": 25,
   "metadata": {},
   "outputs": [
    {
     "name": "stdout",
     "output_type": "stream",
     "text": [
      "Avg interest rate (Train): 13.52306428571454\n",
      "Avg loan amount (Train): 14233.028571428571\n",
      "-------------------\n",
      "Avg interest rate (Val): 13.619126666666727\n",
      "Avg loan amount (Val): 14311.575\n",
      "-------------------\n",
      "Avg interest rate (Test): 13.498044140030544\n",
      "Avg loan amount (Test): 14268.635844748858\n"
     ]
    }
   ],
   "source": [
    "# Print the average interest rate and loan amount in the unscaled training, validation, and test datasets\n",
    "\n",
    "# Training set\n",
    "avg_int_train, avg_loan_train = X_train_unscale.int_rate.mean(), X_train_unscale.loan_amnt.mean()\n",
    "print('Avg interest rate (Train): '+ str(avg_int_train))\n",
    "print('Avg loan amount (Train): '+ str(avg_loan_train))\n",
    "print('-------------------')\n",
    "\n",
    "# Validation set\n",
    "avg_int_val, avg_loan_val = X_val_unscale.int_rate.mean(), X_val_unscale.loan_amnt.mean()\n",
    "print('Avg interest rate (Val): '+ str(avg_int_val))\n",
    "print('Avg loan amount (Val): '+ str(avg_loan_val))\n",
    "print('-------------------')\n",
    "\n",
    "# # Test set\n",
    "avg_int_test, avg_loan_test = X_test_unscale.int_rate.mean(), X_test_unscale.loan_amnt.mean()\n",
    "print('Avg interest rate (Test): '+ str(avg_int_test))\n",
    "print('Avg loan amount (Test): '+ str(avg_loan_test))"
   ]
  },
  {
   "cell_type": "markdown",
   "metadata": {},
   "source": [
    "*  Write a Python function `get_EP` that calculates, for every given threshold, the expected payoff from a randomly drawn borrower based on the average interest rates/loan amounts \n",
    "    * The Python function should allow the user to specify whether to perform the calculation on validation or test data\n",
    "    * Please set the profit parameter \"P\" to be the average interest times times the average loan amount\n",
    "    * Please set the loss parameter \"L\" to be the average loan amount\n",
    "    * You can write additional functions if needed, and use/modify the codes provided in the lecture\n"
   ]
  },
  {
   "cell_type": "code",
   "execution_count": 26,
   "metadata": {},
   "outputs": [],
   "source": [
    "# You can use the functions below (if needed)\n",
    "\n",
    "def get_data(evaluate_on):\n",
    "    ###########\n",
    "    # Get the validation/training data, depending on the data mode\n",
    "    # Input: evaluate_on is either 'test' or 'validate', meaning whether the evaluation is performed on the validation or test data\n",
    "    # Output: the appropriate feature and outcome data as a tuple\n",
    "    ###########\n",
    "    \n",
    "    if evaluate_on == 'test':\n",
    "        X,y,X_unscale = X_test, y_test, X_test_unscale\n",
    "    elif evaluate_on == 'validate':\n",
    "        X,y,X_unscale = X_val, y_val, X_val_unscale\n",
    "    else:\n",
    "        print('Error: evaluate_on must be either \"test\" or \"validate\"')\n",
    "        X, y, X_unscale  = (None, None, None)\n",
    "        \n",
    "    return X,y, X_unscale\n",
    "    \n",
    "    \n",
    "\n",
    "def get_cm(z, reg_model, evaluate_on ):\n",
    "    \n",
    "    ###########\n",
    "    # Get the confusion matrix of given the threshold, classifier and the dataset\n",
    "    # Input: z is the threshold\n",
    "    #        reg_model is the sklearn classifier \n",
    "    #        evaluate_on is either 'test' or 'validate', meaning whether the confusion matrix is evaluated on the\n",
    "    #        validation data or test data\n",
    "    # Output: the confusion matrix\n",
    "    ###########\n",
    "    \n",
    "\n",
    "    # Get the appropriate feature and outcome data    \n",
    "    X,y, _ = get_data(evaluate_on)\n",
    "    \n",
    "    \n",
    "    # If prob for data set > threshold predict 1\n",
    "    preds = np.where(reg_model.predict_proba(X)[:,1] > z, 1, 0)                                      \n",
    "    \n",
    "    ''' # Print the acceptance rate. Uncomment if needed.\n",
    "    print('Number of loans accepted: ', np.sum(preds) )\n",
    "    print('Number of loans rejected: ', np.sum(1-preds) )'''\n",
    "    \n",
    "    # create confusion matrix \n",
    "    cm = confusion_matrix(y, preds,labels=[1, 0], sample_weight=None) # confusion matrix \n",
    "    \n",
    "    return cm\n",
    "\n",
    "\n",
    "\n",
    "def get_ratios(cm):\n",
    "    ###########\n",
    "    # Get the relavant ratios given a confusion matrix\n",
    "    # Input: cm is a 2*2 confusion matrix\n",
    "    # Output: Accuracy, TPR, FNR, TNR, and FPR\n",
    "    ###########\n",
    "    \n",
    "    \n",
    "    TP = cm[0][0] # True Positives                                                                                          \n",
    "    FN = cm[0][1] # False Positives                                                                                          \n",
    "    FP = cm[1][0] # True Negatives                                                                                          \n",
    "    TN = cm[1][1] # False Negatives                                                                                          \n",
    "        \n",
    "    TPR = TP/(TP+FN) # True Positive Rate (sensitivity/recall)                                                                                       \n",
    "    FNR = FN/(TP+FN) # False Negative Rate (miss rate)                                                                                      \n",
    "    TNR = TN/(TN+FP) # True Negative Rate (specificity)                                                                                      \n",
    "    FPR = FP/(TN+FP) # False Positive Rate (fall-out) \n",
    "    \n",
    "    Accuracy = (TP+TN)/(TP+FN+FP+TN)\n",
    "    \n",
    "    return Accuracy, TPR, FNR, TNR, FPR\n",
    "\n"
   ]
  },
  {
   "cell_type": "code",
   "execution_count": 27,
   "metadata": {},
   "outputs": [],
   "source": [
    "def get_EP(z, reg_model, evaluate_on, avg_int, avg_loan_amt):\n",
    "    \n",
    "    ###########\n",
    "    # Evaluate the (realized) expected payoff given the threshold, classifier, and based on the validation/test data set\n",
    "    # Input: z is the threshold\n",
    "    #        reg_model is a sklearn classifier\n",
    "    #        evaluate_on is either 'test' or 'validate', meaning whether the confusion matrix is generated from the...\n",
    "    #        validation data or test data\n",
    "    # Output: The (realized) expected payff from an average borrower\n",
    "    # Note: The gain and loss parameters P and L should be estimated from the validation/test data\n",
    "    ###########\n",
    "    \n",
    "    # Get the appropriate feature and outcome data    \n",
    "    X,y, X_unscale = get_data(evaluate_on) # Toggles between test and val sets\n",
    "\n",
    "    # Please fill in your codes here. \n",
    "\n",
    "    # get confusion matrix \n",
    "    cm = get_cm(z, reg_model, evaluate_on)\n",
    "    \n",
    "    # get the relavant ratios\n",
    "    Accuracy, TPR, FNR, TNR, FPR = get_ratios(cm)\n",
    "    \n",
    "    # Get the fraction of good/bad loans\n",
    "    frac_p = np.sum(y)/len(y) #the fraction of positive outcomes (i.e., good loans) in the validation dataset\n",
    "    frac_n = np.sum(1-y)/len(y) #total number of negative outcomes (i.e., bad loans) in the validation dataset\n",
    "    \n",
    "    # The expected value is P * \"Good loan\"% * TPR - L * \"Bad Loan\"% * FPR\n",
    "    P, L = avg_int*avg_loan_amt/100, avg_loan_amt\n",
    "    EP = P * frac_p * TPR - L * frac_n * FPR \n",
    "\n",
    "    return EP"
   ]
  },
  {
   "cell_type": "markdown",
   "metadata": {},
   "source": [
    "*  Complete the following two tasks: \n",
    "    * Plot the expected payoff curve of the logistic regression model.\n",
    "    * Please also find the optimal threshold and store it in the variable `z_optimal`\n",
    "    * Both tasks should be based on the **validation** data"
   ]
  },
  {
   "cell_type": "code",
   "execution_count": 28,
   "metadata": {},
   "outputs": [],
   "source": [
    "# You can directly use the functions below (if needed)\n",
    "\n",
    "# Let the threshold Z range from 0.5 to 1. \n",
    "zrange_default = np.arange(0.5,1,0.001) # a grid search for the threshold \n",
    "\n",
    "\n",
    "def EP_curve(reg_model, evaluate_on, avg_int, avg_loan_amt, zrange):\n",
    "    \n",
    "    ###########    \n",
    "    # Evaluate and plot the (realized) expected payoff curve. Also, we obtain the threshold based on the curve.\n",
    "    # Input: reg_model is the classifier of interest\n",
    "    #        evaluate_on is either 'test' or 'validate', \n",
    "    #        meaning whether the evaluation is based on validation or test data\n",
    "    #        zrange is the range that the treshold Z takes value in\n",
    "    # Output: The optimal threshold\n",
    "    ###########\n",
    "\n",
    "    # We calculate the expected payoff as a function of Z\n",
    "    EP_lr = np.array([get_EP(z, reg_model, evaluate_on, avg_int, avg_loan_amt)  for z in zrange]) #The expected payoff curve for the logistic regression\n",
    "    EP_rg = EP_lr[0] + zrange * (EP_lr[-1] - EP_lr[0]) #The expected payoff curve for the random guess predictor\n",
    "\n",
    "    plt.plot( zrange, EP_rg,linestyle='--',color = 'black', label='Random Predction')\n",
    "    plt.plot( zrange , EP_lr,label='Logistic Regression')\n",
    "\n",
    "    plt.xlabel('Z')\n",
    "    plt.ylabel('Expected payoff')\n",
    "    plt.legend()\n",
    "    plt.show()\n",
    "\n",
    "    # Analysis of the optimal threshold\n",
    "\n",
    "    z_optimal = zrange [np.argmax(EP_lr)]\n",
    "\n",
    "    print('-------------------')\n",
    "    print('The optimal Z is: ', z_optimal)\n",
    "    print('Evaluated on: the %s data set' %evaluate_on)\n",
    "    print('-------------------')\n",
    "\n",
    "    print('   The maximual expected payoff is: $', np.max(EP_lr).round(2) )\n",
    "    print('-------------------')\n",
    "\n",
    "    print('   The confusion matrix under the optimal Z is: ')\n",
    "    print(get_cm(z_optimal, reg_model, evaluate_on))\n",
    "    print('-------------------')\n",
    "\n",
    "    Accuracy, TPR, FNR, TNR, FPR = get_ratios (get_cm(z_optimal, reg_model, evaluate_on))\n",
    "    print('   The relavant ratios under the optimal Z are: ')\n",
    "    print('   Accuracy rate:', Accuracy, ' TPR:', TPR, ' FPR:',  FPR)\n",
    "    print('-------------------')\n",
    "\n",
    "    return z_optimal "
   ]
  },
  {
   "cell_type": "code",
   "execution_count": 29,
   "metadata": {},
   "outputs": [
    {
     "data": {
      "image/png": "[encoded data removed]",
      "text/plain": [
       "<Figure size 432x288 with 1 Axes>"
      ]
     },
     "metadata": {
      "needs_background": "light"
     },
     "output_type": "display_data"
    },
    {
     "name": "stdout",
     "output_type": "stream",
     "text": [
      "-------------------\n",
      "The optimal Z is:  0.8920000000000003\n",
      "Evaluated on: the validate data set\n",
      "-------------------\n",
      "   The maximual expected payoff is: $ 187.47\n",
      "-------------------\n",
      "   The confusion matrix under the optimal Z is: \n",
      "[[ 641 1646]\n",
      " [  48  665]]\n",
      "-------------------\n",
      "   The relavant ratios under the optimal Z are: \n",
      "   Accuracy rate: 0.43533333333333335  TPR: 0.28027984258854394  FPR: 0.06732117812061711\n",
      "-------------------\n"
     ]
    },
    {
     "data": {
      "text/plain": [
       "0.8920000000000003"
      ]
     },
     "execution_count": 29,
     "metadata": {},
     "output_type": "execute_result"
    }
   ],
   "source": [
    "# Plot the expected payoff curve of the logistic regression model and print 'z_optimal', \n",
    "# both based on the validation data\n",
    "z_optimal = EP_curve(lgstc_reg, 'validate', avg_int_val, avg_loan_val, zrange_default)\n",
    "z_optimal"
   ]
  },
  {
   "cell_type": "markdown",
   "metadata": {},
   "source": [
    "### 2.3 Performance evaluation\n",
    "\n",
    "#### 2.3.1  The performance of the logistic regression as a classifier\n",
    "*  (Possibly building on the lecture codes) Report the MLE loss function values on training, validation, and test datasets"
   ]
  },
  {
   "cell_type": "code",
   "execution_count": 30,
   "metadata": {},
   "outputs": [],
   "source": [
    "# You can directly use the functions below (if needed)\n",
    "\n",
    "def loss_evaluation (reg_model):\n",
    "    \n",
    "    # y_train_pred, y_val_pred, and y_test_pred are the predicted probabilities for the training set\n",
    "    # validation set and test set using the fitted logistic regression model\n",
    "\n",
    "    y_train_pred=reg_model.predict_proba(X_train)\n",
    "    y_val_pred=reg_model.predict_proba(X_val)\n",
    "    y_test_pred=reg_model.predict_proba(X_test)\n",
    "\n",
    "    # Calculate maximum likelihood for training set, validation set, and test set\n",
    "\n",
    "    mle_vector_train = np.log(np.where(y_train == 1, y_train_pred[:,1], y_train_pred[:,0]))\n",
    "    mle_vector_val = np.log(np.where(y_val == 1, y_val_pred[:,1], y_val_pred[:,0]))\n",
    "    mle_vector_test = np.log(np.where(y_test == 1, y_test_pred[:,1], y_test_pred[:,0]))\n",
    "\n",
    "    # Calculate loss functions from maximum likelihoods\n",
    "\n",
    "    loss_function_training = np.negative(np.sum(mle_vector_train)/len(y_train))\n",
    "    loss_function_val = np.negative(np.sum(mle_vector_val)/len(y_val))\n",
    "    loss_function_test = np.negative(np.sum(mle_vector_test)/len(y_test))\n",
    "    \n",
    "    return loss_function_training, loss_function_val, loss_function_test"
   ]
  },
  {
   "cell_type": "code",
   "execution_count": 31,
   "metadata": {},
   "outputs": [
    {
     "name": "stdout",
     "output_type": "stream",
     "text": [
      "MLE loss function for training set = 0.4726109237831029\n",
      "MLE loss function for validation set = 0.5034663665683796\n",
      "MLE loss function for test set = 0.49720213438083677\n"
     ]
    }
   ],
   "source": [
    "# Print the MLE loss function values on training, validation, and test datasets\n",
    "loss_function_training, loss_function_val, loss_function_test = loss_evaluation(lgstc_reg)\n",
    "print('MLE loss function for training set =', loss_function_training)\n",
    "print('MLE loss function for validation set =', loss_function_val)\n",
    "print('MLE loss function for test set =', loss_function_test)\n"
   ]
  },
  {
   "cell_type": "markdown",
   "metadata": {},
   "source": [
    "* (Possibly building on the lecture codes) Report the AUC score for the logistic regression classifier  (based on the **test** data)."
   ]
  },
  {
   "cell_type": "code",
   "execution_count": 32,
   "metadata": {},
   "outputs": [],
   "source": [
    "# You can directly use the functions below (if needed)\n",
    "def get_AUC(reg_model, evaluate_on):\n",
    "    \n",
    "    ###########\n",
    "    # Plot the ROC curve of a given classifier and the data to evaluate on. Also, calculate the AUC measure.\n",
    "    # Input: reg_model is a sklearn classifier \n",
    "    #        evaluate_on is either 'test' or 'validate', meaning whether the confusion matrix is evaluated on the\n",
    "    #        validation data or test data. By default, the ROC curve is evaluated on the test data.\n",
    "    # Output: The AUC measure. Also, plot the curve.\n",
    "    ###########\n",
    "    \n",
    "    # Get the appropriate feature and outcome data    \n",
    "    X,y, _ = get_data (evaluate_on)\n",
    "    \n",
    "    # Get the predicted probablities from the current model and from random predictions\n",
    "    model_prob = reg_model.predict_proba(X)\n",
    "    model_prob = model_prob[:, 1]\n",
    "    ns_prob=[0 for _ in range(len(y))]\n",
    "    \n",
    "    # Get the AUC scores\n",
    "    ns_auc=roc_auc_score(y, ns_prob)\n",
    "    model_auc = roc_auc_score(y,model_prob)\n",
    "    \n",
    "    return model_auc"
   ]
  },
  {
   "cell_type": "code",
   "execution_count": 33,
   "metadata": {},
   "outputs": [
    {
     "name": "stdout",
     "output_type": "stream",
     "text": [
      "AUC measure of the logistic regression on test data: 0.686\n"
     ]
    }
   ],
   "source": [
    "# Print the AUC measure of the logistic regression on the test data\n",
    "print('AUC measure of the logistic regression on test data: ' + str(get_AUC(lgstc_reg, 'test').round(3)))"
   ]
  },
  {
   "cell_type": "markdown",
   "metadata": {},
   "source": [
    "#### 2.3.1  The performance of the loan acceptance rule\n",
    "\n",
    "Let us consider the loan acceptance rule determined by the logistic regression classifier with the threshold `z_optimal`. The evaluation should be based on the **test** data\n",
    "\n",
    "* Evaluate and print the confusion matrix "
   ]
  },
  {
   "cell_type": "code",
   "execution_count": 34,
   "metadata": {},
   "outputs": [
    {
     "name": "stdout",
     "output_type": "stream",
     "text": [
      "Confusion matrix at z_optimal using test data:  \n",
      "[[ 589 1445]\n",
      " [  56  538]]\n",
      "-------------------\n",
      "Evaluation of confusion matrix on test data\n",
      "                     0         0\n",
      "0             Accuracy  0.428843\n",
      "1   True Positive Rate  0.289577\n",
      "2  False Negative Rate  0.710423\n",
      "3   True Negative Rate  0.905724\n",
      "4  False Positive Rate  0.094276\n"
     ]
    }
   ],
   "source": [
    "# Print the confusion matrix (based on the test data)\n",
    "print('Confusion matrix at z_optimal using test data:  ')\n",
    "print(get_cm(z_optimal, lgstc_reg, 'test'))\n",
    "\n",
    "print('-------------------')\n",
    "\n",
    "# Evaluation of confusion matrix\n",
    "print('Evaluation of confusion matrix on test data')\n",
    "\n",
    "eval_metrics = pd.DataFrame([\"Accuracy\", \"True Positive Rate\", \"False Negative Rate\", \"True Negative Rate\", \"False Positive Rate\"])\n",
    "ratios = pd.DataFrame(get_ratios(get_cm(z_optimal, lgstc_reg, 'test')))\n",
    "results = pd.concat([eval_metrics, ratios], axis= 'columns')\n",
    "\n",
    "print(results)"
   ]
  },
  {
   "cell_type": "markdown",
   "metadata": {},
   "source": [
    "* Evaluate the expected payoff of the loan based on the average interest rates and loan amounts"
   ]
  },
  {
   "cell_type": "code",
   "execution_count": 35,
   "metadata": {},
   "outputs": [
    {
     "name": "stdout",
     "output_type": "stream",
     "text": [
      "EP at z_optimal using test data:  $127.61\n"
     ]
    }
   ],
   "source": [
    "# Evaluate the expected payoff of the loan based on the average interest rates and loan amounts in the test data\n",
    "print('EP at z_optimal using test data:  $' + str(get_EP(z_optimal, lgstc_reg, 'test', avg_int_test, avg_loan_test).round(2)))"
   ]
  },
  {
   "cell_type": "markdown",
   "metadata": {},
   "source": [
    "# Part 3. Improving the Prediction using Regularization\n",
    "\n",
    "Let us use L1 regularization to improve the prediction model and ultimately, the loan acceptance decision. "
   ]
  },
  {
   "cell_type": "markdown",
   "metadata": {},
   "source": [
    "* Let the regularization parameter Lambda range from 5 to 145. For each lambda, fit a logistic regression with L1 regularization. Plot three curves to answer the following three questions:\n",
    "  * (1) How does the number of non-zero coefficients change with respect to lambda?\n",
    "  * (2) How does the MLE loss function value change with respect to lambda for the training, validation, and test data, respectively? (You can plot three curves on the same graph)\n",
    "  * (3) How does the AUC score change with respect to lambda for the validation and test, respectively? (You can plot two curves on the same graph)\n",
    "  \n",
    "\n",
    "  \n",
    "* The training parameters we use are: \n",
    "   * `penalty=\"l1\"` (It means we use L1 regularization) \n",
    "   *  `solver=\"liblinear\"` (It means we use the liblinear method as the solver, which is slightly more specialized to the training problem with L1 regularization)\n"
   ]
  },
  {
   "cell_type": "code",
   "execution_count": 36,
   "metadata": {},
   "outputs": [],
   "source": [
    "# Let the regularization parameter Lambda range from 5 to 145. (We use LAMBDA to store its range.) \n",
    "# For each lambda, fit a logistic regression with L1 regularization. \n",
    "# Plot three curves to answer the following three questions:\n",
    "# (1) How does the number of non-zero coefficients change with respect to lambda?\n",
    "# (2) How does the MLE loss function value change with respect to lambda for the training, validation, and test data, respectively? (You can plot three curves on the same graph)\n",
    "# (3) How does the AUC score change with respect to lambda for the validation and test, respectively? (You can plot two curves on the same graph)\n",
    "\n",
    "# The range of lambda values\n",
    "LAMBDA = np.arange(5,155, 10)"
   ]
  },
  {
   "cell_type": "code",
   "execution_count": 37,
   "metadata": {},
   "outputs": [
    {
     "data": {
      "image/png": "[encoded data removed]",
      "text/plain": [
       "<Figure size 432x288 with 1 Axes>"
      ]
     },
     "metadata": {
      "needs_background": "light"
     },
     "output_type": "display_data"
    }
   ],
   "source": [
    "# Plot the number of non-zero coefficients for the l1-regularized logistic regression as lambda changes\n",
    "def plot_non_zero_coeff_l1(LAMBDA):\n",
    "    count_non_zero_coefs = []\n",
    "    # Iterate over the lambda values\n",
    "    for lamb in LAMBDA:\n",
    "        \n",
    "        #Create an instance of logisticregression named lgstc_reg_l1\n",
    "        lgstc_reg_l1 =  LogisticRegression(penalty=\"l1\",solver=\"liblinear\", C = 1/lamb)\n",
    "        \n",
    "        # Fit logististic regression to training set\n",
    "        lgstc_reg_l1.fit(X_train, y_train) # fit training data on logistic regression\n",
    "\n",
    "        # Count all non-zero coefficients\n",
    "        count = np.sum(lgstc_reg_l1.coef_ != 0)\n",
    "        count_non_zero_coefs.append(count)\n",
    "\n",
    "    ax = plt.gca()\n",
    "    plt.xlabel(\"Lambda\")\n",
    "    plt.ylabel(\"Non-zero coefficients\")\n",
    "    ax.plot(LAMBDA, count_non_zero_coefs)\n",
    "\n",
    "plot_non_zero_coeff_l1(LAMBDA)"
   ]
  },
  {
   "cell_type": "code",
   "execution_count": 38,
   "metadata": {},
   "outputs": [
    {
     "data": {
      "image/png": "[encoded data removed]",
      "text/plain": [
       "<Figure size 432x288 with 1 Axes>"
      ]
     },
     "metadata": {
      "needs_background": "light"
     },
     "output_type": "display_data"
    }
   ],
   "source": [
    "# Plot the likelihood loss function values (on training, validation, and test data sets) for the l1-regularized logistic regression as lambda changes (3-in-1)\n",
    "def plot_loss_func_l1(LAMBDA):\n",
    "\n",
    "    loss_func_lst, loss_func_benchmark = [], []\n",
    "\n",
    "    for lamb in LAMBDA:\n",
    "        #Create an instance of logisticregression named lgstc_reg_l1\n",
    "        lgstc_reg_l1 =  LogisticRegression(penalty=\"l1\",solver=\"liblinear\", C = 1/lamb)\n",
    "\n",
    "        # Fit logististic regression to training set\n",
    "        lgstc_reg_l1.fit(X_train, y_train) # fit training data on logistic regression\n",
    "\n",
    "        # Store three values in list item for every lambda\n",
    "        loss_func_lst.append(loss_evaluation(lgstc_reg_l1))\n",
    "\n",
    "        # To visualise the loss before and after regularisation\n",
    "        loss_func_benchmark.append(loss_evaluation(lgstc_reg))\n",
    "\n",
    "    # Slice into 3\n",
    "    train_losses    = [i[0] for i in loss_func_lst]\n",
    "    val_losses      = [i[1] for i in loss_func_lst]\n",
    "    test_losses     = [i[2] for i in loss_func_lst]\n",
    "\n",
    "    # Plot 3 in 1\n",
    "    \n",
    "    plt.plot(LAMBDA, train_losses, label = \"Train\", color = 'tab:blue')\n",
    "    plt.plot(LAMBDA, val_losses, label = \"Validation\", color = 'tab:orange')\n",
    "    plt.plot(LAMBDA, test_losses, label = \"Test\", color = 'tab:green')\n",
    "    plt.xlabel(\"Lambda\")\n",
    "    plt.ylabel(\"Likelihood Loss Functions\")\n",
    "\n",
    "\n",
    "    # Not in qn but to show original likelihood loss\n",
    "    train_bench     = [i[0] for i in loss_func_benchmark]\n",
    "    val_bench       = [i[1] for i in loss_func_benchmark]\n",
    "    test_bench      = [i[2] for i in loss_func_benchmark]\n",
    "\n",
    "    # Plot benchmarks    \n",
    "    plt.plot(LAMBDA, train_bench , label = \"Unregularised Train\", linestyle = 'dashed', color = \"tab:blue\")\n",
    "    plt.plot(LAMBDA, val_bench , label = \"Unregularised Validation\", linestyle = 'dashed', color = \"tab:orange\")\n",
    "    plt.plot(LAMBDA, test_bench , label = \"Unregularised Test\", linestyle = 'dashed', color = \"tab:green\")\n",
    "\n",
    "\n",
    "    plt.legend()\n",
    "\n",
    "plot_loss_func_l1(LAMBDA)"
   ]
  },
  {
   "cell_type": "code",
   "execution_count": 39,
   "metadata": {},
   "outputs": [
    {
     "name": "stdout",
     "output_type": "stream",
     "text": [
      "Maximum point for val (45, 0.7014186532698078)\n",
      "Maximum point for test (75, 0.698497594761115)\n"
     ]
    },
    {
     "data": {
      "image/png": "[encoded data removed]",
      "text/plain": [
       "<Figure size 432x288 with 1 Axes>"
      ]
     },
     "metadata": {
      "needs_background": "light"
     },
     "output_type": "display_data"
    }
   ],
   "source": [
    "# Plot the AUC measures for the l1-regularized logistic regression as lambda changes\n",
    "def plot_auc_l1(LAMBDA):\n",
    "    auc_lst_val, auc_lst_test = [], []\n",
    "\n",
    "    for lamb in LAMBDA:\n",
    "        #Create an instance of logisticregression named lgstc_reg_l1\n",
    "        lgstc_reg_l1 =  LogisticRegression(penalty=\"l1\",solver=\"liblinear\", C = 1/lamb)\n",
    "\n",
    "        # Fit logististic regression to training set\n",
    "        lgstc_reg_l1.fit(X_train, y_train) # fit training data on logistic regression\n",
    "\n",
    "        auc_lst_val.append(get_AUC(lgstc_reg_l1,'validate'))\n",
    "        auc_lst_test.append(get_AUC(lgstc_reg_l1,'test'))\n",
    "\n",
    "\n",
    "    # find max points \n",
    "    def find_max_point(x,y):\n",
    "        max_x, max_y = x[np.argmax(y)] , max(y)\n",
    "        return (max_x, max_y)\n",
    "\n",
    "    # max point for validation\n",
    "    print(\"Maximum point for val \" + str(find_max_point(LAMBDA, auc_lst_val)))\n",
    "\n",
    "    # max point for test\n",
    "    print(\"Maximum point for test \" + str(find_max_point(LAMBDA, auc_lst_test)))\n",
    "\n",
    "    # Plot 2 in 1\n",
    "    plt.plot(LAMBDA, auc_lst_val, label = \"Validation\")\n",
    "    plt.plot(LAMBDA, auc_lst_test, label = \"Test\")\n",
    "    plt.xlabel(\"Lambda\")\n",
    "    plt.ylabel(\"Model AUC\")\n",
    "    plt.legend()\n",
    "\n",
    "\n",
    "plot_auc_l1(LAMBDA)"
   ]
  },
  {
   "cell_type": "markdown",
   "metadata": {},
   "source": [
    "* Suppose somebody has determined that the optimal regularization parameter is `lambda_optimal` = 40. What is the optimal threshold Z that obtains the highest expected payoff on the **validation** set? "
   ]
  },
  {
   "cell_type": "code",
   "execution_count": 40,
   "metadata": {},
   "outputs": [
    {
     "data": {
      "image/png": "[encoded data removed]",
      "text/plain": [
       "<Figure size 432x288 with 1 Axes>"
      ]
     },
     "metadata": {
      "needs_background": "light"
     },
     "output_type": "display_data"
    },
    {
     "name": "stdout",
     "output_type": "stream",
     "text": [
      "-------------------\n",
      "The optimal Z is:  0.8710000000000003\n",
      "Evaluated on: the validate data set\n",
      "-------------------\n",
      "   The maximual expected payoff is: $ 142.68\n",
      "-------------------\n",
      "   The confusion matrix under the optimal Z is: \n",
      "[[ 528 1759]\n",
      " [  42  671]]\n",
      "-------------------\n",
      "   The relavant ratios under the optimal Z are: \n",
      "   Accuracy rate: 0.39966666666666667  TPR: 0.23087013554875382  FPR: 0.05890603085553997\n",
      "-------------------\n",
      "0.8710000000000003\n"
     ]
    }
   ],
   "source": [
    "# Suppose somebody has determined that the optimal regularization parameter is lambda_optimal = 40. \n",
    "lambda_optimal = 40\n",
    "\n",
    "# What is the optimal threshold Z that obtains the highest expected payoff on the validation set? \n",
    "def find_optimal_z_val(lamb, avg_int, avg_loan_amt, zrange):\n",
    "    # Create optimal instance of logisticregression named lgstc_reg_l1\n",
    "    lgstc_reg_l1 =  LogisticRegression(penalty=\"l1\",solver=\"liblinear\", C = 1/lamb)\n",
    "\n",
    "    # Fit logististic regression to training set\n",
    "    lgstc_reg_l1.fit(X_train, y_train) # fit training data on logistic regression\n",
    "\n",
    "    # Return z_optimal\n",
    "    return EP_curve(lgstc_reg_l1, 'validate', avg_int, avg_loan_amt, zrange)\n",
    "\n",
    "# Save it in the variable 'z_optimal_l1' and print its value\n",
    "\n",
    "z_optimal_l1 = find_optimal_z_val(lambda_optimal, avg_int_val,avg_loan_val, zrange_default)\n",
    "print(z_optimal_l1)"
   ]
  },
  {
   "cell_type": "markdown",
   "metadata": {},
   "source": [
    "* Evaluate the prediction model on the **test** data set using the following metrics:\n",
    "   * AUC score of the classifier\n",
    "   * Confusion matrix (given the previously chosen threshold)\n",
    "   * Expected payoff (given the previously chosen threshold)"
   ]
  },
  {
   "cell_type": "code",
   "execution_count": 41,
   "metadata": {},
   "outputs": [],
   "source": [
    "# Evaluate the prediction model on the test data using the following metrics:\n",
    "# (1) AUC score of the classifier\n",
    "# (2) Confusion matrix (given the previously chosen threshold 'z_optimal_l1')\n",
    "# (3) Expected payoff (given the previously chosen threshold 'z_optimal_l1')"
   ]
  },
  {
   "cell_type": "code",
   "execution_count": 42,
   "metadata": {},
   "outputs": [
    {
     "name": "stdout",
     "output_type": "stream",
     "text": [
      "The AUC score of the regularized classifier is: 0.698\n"
     ]
    }
   ],
   "source": [
    "# Print the AUC score of the regualized logistics classifier on the test data\n",
    "\n",
    "def find_l1_model_auc(lamb):\n",
    "    #Create an instance of logisticregression named lgstc_reg_l1\n",
    "    lgstc_reg_l1 =  LogisticRegression(penalty=\"l1\",solver=\"liblinear\", C = 1/lamb)\n",
    "\n",
    "    # Fit logististic regression to training set\n",
    "    lgstc_reg_l1.fit(X_train, y_train) # fit training data on logistic regression\n",
    "\n",
    "    return get_AUC(lgstc_reg_l1, 'test')\n",
    "\n",
    "print('The AUC score of the regularized classifier is: ' + str(find_l1_model_auc(lambda_optimal).round(3))) # Need to find out which lambda to use for regression, do we continue using the \"ideal\" lambda?"
   ]
  },
  {
   "cell_type": "code",
   "execution_count": 43,
   "metadata": {},
   "outputs": [
    {
     "name": "stdout",
     "output_type": "stream",
     "text": [
      "The confusion matrix of the regualized logistics classifier on the test data is: \n",
      "[[ 491 1543]\n",
      " [  38  556]]\n"
     ]
    }
   ],
   "source": [
    "# Print the confusion matrix of the regualized logistics classifier on the test data (given the previously chosen threshold 'z_optimal_l1')\n",
    "def get_l1_model_cm(lamb):\n",
    "\n",
    "    #Create an instance of logisticregression named lgstc_reg_l1\n",
    "    lgstc_reg_l1 =  LogisticRegression(penalty=\"l1\",solver=\"liblinear\", C = 1/lamb)\n",
    "\n",
    "    # Fit logististic regression to training set\n",
    "    lgstc_reg_l1.fit(X_train, y_train) # fit training data on logistic regression\n",
    "\n",
    "    return get_cm(z_optimal_l1, lgstc_reg_l1, 'test')\n",
    "\n",
    "print('The confusion matrix of the regualized logistics classifier on the test data is: ')\n",
    "print(get_l1_model_cm(lambda_optimal).round(3))"
   ]
  },
  {
   "cell_type": "code",
   "execution_count": 44,
   "metadata": {},
   "outputs": [
    {
     "name": "stdout",
     "output_type": "stream",
     "text": [
      "The EP of the regularized model is: $153.52\n"
     ]
    }
   ],
   "source": [
    "# print the expected off on the test data (given the previously chosen threshold 'z_optimal_l1')\n",
    "def get_l1_model_ep(lamb, avg_int, avg_loan_amt):\n",
    "\n",
    "    #Create an instance of logisticregression named lgstc_reg_l1\n",
    "    lgstc_reg_l1 =  LogisticRegression(penalty=\"l1\",solver=\"liblinear\", C = 1/lamb)\n",
    "\n",
    "    # Fit logististic regression to training set\n",
    "    lgstc_reg_l1.fit(X_train, y_train) # fit training data on logistic regression\n",
    "\n",
    "    return get_EP(z_optimal_l1, lgstc_reg_l1, 'test', avg_int, avg_loan_amt)\n",
    "\n",
    "\n",
    "print('The EP of the regularized model is: $' + str(get_l1_model_ep(lambda_optimal, avg_int_test, avg_loan_test).round(2)))"
   ]
  },
  {
   "cell_type": "code",
   "execution_count": 46,
   "metadata": {},
   "outputs": [
    {
     "data": {
      "image/png": "[encoded data removed]",
      "text/plain": [
       "<Figure size 432x288 with 1 Axes>"
      ]
     },
     "metadata": {
      "needs_background": "light"
     },
     "output_type": "display_data"
    }
   ],
   "source": [
    "# Testing a range of interest rates on test set, not accurate since interest rates are based on test set results\n",
    "int_rates = np.arange(1,30, 1)\n",
    "\n",
    "\n",
    "def changing_int(lamb, int_rates, avg_loan_test):\n",
    "    #Create an instance of logisticregression named lgstc_reg_l1\n",
    "    lgstc_reg_l1 =  LogisticRegression(penalty=\"l1\",solver=\"liblinear\", C = 1/lamb)\n",
    "\n",
    "    # Fit logististic regression to training set\n",
    "    lgstc_reg_l1.fit(X_train, y_train) # fit training data on logistic regression\n",
    "\n",
    "    ep_vals = []\n",
    "    for i in int_rates:\n",
    "        ep_vals.append(get_EP(z_optimal_l1, lgstc_reg_l1, 'test', i, avg_int_test))\n",
    "    y = ep_vals\n",
    "    x = int_rates\n",
    "\n",
    "    plt.plot(x, y)\n",
    "    plt.xlabel(\"Interest Rates\")\n",
    "    plt.ylabel(\"Expected Profits\")\n",
    "    plt.show()\n",
    "\n",
    "changing_int(lambda_optimal, int_rates, avg_loan_test)    "
   ]
  }
 ],
 "metadata": {
  "kernelspec": {
   "display_name": "Python 3.7.6 ('base')",
   "language": "python",
   "name": "python3"
  },
  "language_info": {
   "codemirror_mode": {
    "name": "ipython",
    "version": 3
   },
   "file_extension": ".py",
   "mimetype": "text/x-python",
   "name": "python",
   "nbconvert_exporter": "python",
   "pygments_lexer": "ipython3",
   "version": "3.7.6"
  },
  "vscode": {
   "interpreter": {
    "hash": "ad2bdc8ecc057115af97d19610ffacc2b4e99fae6737bb82f5d7fb13d2f2c186"
   }
  }
 },
 "nbformat": 4,
 "nbformat_minor": 4
}
