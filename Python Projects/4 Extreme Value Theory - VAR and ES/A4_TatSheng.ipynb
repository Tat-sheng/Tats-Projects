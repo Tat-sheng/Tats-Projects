{
 "cells": [
  {
   "cell_type": "markdown",
   "metadata": {},
   "source": [
    "# Q1"
   ]
  },
  {
   "cell_type": "markdown",
   "metadata": {},
   "source": [
    "Suppose that each of two investments has a 0.9% chance of a loss of $10 million and a 99.1%\n",
    "chance of a loss of $1 million. The investments are independent of each other.\n",
    "\n",
    "(a) What is the VaR for one of the investments when the confidence level is 99%?\n",
    "\n",
    "(b) What is the expected shortfall for one of the investments when the confidence level is 99%?\n",
    "\n",
    "(c) What is the VaR for a portfolio consisting of the two investments when the confidence  level\n",
    "is 99%?\n",
    "\n",
    "(d) What is the expected shortfall for a portfolio consisting of the two investments when the\n",
    "confidence level is 99%?\n",
    "\n",
    "(e) Show that in this example VaR does not satisfy the subadditivity condition whereas expected shortfall does."
   ]
  },
  {
   "cell_type": "markdown",
   "metadata": {},
   "source": [
    "# Q2"
   ]
  },
  {
   "cell_type": "code",
   "execution_count": 54,
   "metadata": {},
   "outputs": [
    {
     "name": "stdout",
     "output_type": "stream",
     "text": [
      "Historical Data (Raw)\n",
      "           Date  NASDAQ Close\n",
      "1496   6-Mar-06      2,286.03\n",
      "1497   7-Mar-06      2,268.38\n",
      "1498   8-Mar-06      2,267.46\n",
      "1499   9-Mar-06      2,249.72\n",
      "1500  10-Mar-06      2,262.04\n"
     ]
    },
    {
     "data": {
      "image/png": "[encoded data removed]",
      "text/plain": [
       "<Figure size 432x288 with 1 Axes>"
      ]
     },
     "metadata": {
      "needs_background": "light"
     },
     "output_type": "display_data"
    },
    {
     "name": "stdout",
     "output_type": "stream",
     "text": [
      "Simulated Data\n",
      "   Scenario  NASDAQ Close  Portfolio Value  Loss\n",
      "0         1      2,335.53            10.32 -0.32\n",
      "1         2      2,297.31            10.16 -0.16\n",
      "2         3      2,272.30            10.05 -0.05\n",
      "3         4      2,260.00             9.99  0.01\n",
      "4         5      2,205.17             9.75  0.25\n",
      "Total number of scenarios:  1500\n"
     ]
    },
    {
     "data": {
      "image/png": "[encoded data removed]",
      "text/plain": [
       "<Figure size 432x288 with 1 Axes>"
      ]
     },
     "metadata": {
      "needs_background": "light"
     },
     "output_type": "display_data"
    }
   ],
   "source": [
    "# Pre-processing\n",
    "import pandas as pd\n",
    "import numpy as np\n",
    "import matplotlib.pyplot as plt\n",
    "import scipy.optimize as opt\n",
    "# pd.options.display.float_format = '{:,.2f}'.format\n",
    "\n",
    "# Historical data of the four indices adjusted to USD\n",
    "df = pd.read_csv('ps4_data.csv')\n",
    "print('Historical Data (Raw)')\n",
    "print(df.tail())\n",
    "\n",
    "# Plot Index data\n",
    "dates = pd.to_datetime(df.Date)\n",
    "plt.plot(dates, df['NASDAQ Close']/df.iat[0,1], label = 'DJIA (normalized)', alpha = 0.8)\n",
    "plt.title('NASDAQ Index data')\n",
    "plt.show()\n",
    "\n",
    "# Position\n",
    "position = 10\n",
    "lastPrice = df.iat[-1,1]\n",
    "\n",
    "# construct the simulated scenarios\n",
    "df_simulation = pd.DataFrame(lastPrice * (df.iloc[1:, 1]) / (df.shift(periods=1).iloc[1:, 1]))\n",
    "df_simulation['Portfolio Value'] = df_simulation['NASDAQ Close'] / lastPrice * position\n",
    "df_simulation['Loss'] = position - df_simulation['Portfolio Value'] \n",
    "df_simulation.reset_index(inplace = True)\n",
    "df_simulation.rename(columns={\"index\": \"Scenario\"}, inplace = True)\n",
    "\n",
    "print('Simulated Data')\n",
    "print(df_simulation.head(5))\n",
    "\n",
    "# Total number of scenarios\n",
    "n = len(df_simulation)\n",
    "print('Total number of scenarios: ', n)\n",
    "\n",
    "# histogram of portfolio losses\n",
    "df_simulation.Loss.hist(bins = 25)\n",
    "plt.title('Loss distribution')\n",
    "plt.show()"
   ]
  },
  {
   "cell_type": "markdown",
   "metadata": {},
   "source": [
    "# 2a"
   ]
  },
  {
   "cell_type": "code",
   "execution_count": 55,
   "metadata": {},
   "outputs": [
    {
     "name": "stdout",
     "output_type": "stream",
     "text": [
      "Loss distribution: from the worst to the best\n",
      "     Scenario  Loss\n",
      "17         18  0.97\n",
      "8           9  0.76\n",
      "197       198  0.72\n",
      "190       191  0.71\n",
      "15         16  0.71\n",
      "---\n",
      "VaR (pctl):  0.5389382836766909\n",
      "ES (pctl) 0.6566113297444226\n",
      "---\n",
      "VaR (ranked loss):  0.7058112872605342\n",
      "ES (ranked loss) 0.7743490122508927\n"
     ]
    }
   ],
   "source": [
    "# Historical Simulation Approach\n",
    "# Defining the confidence level alpha \n",
    "alpha = 0.99\n",
    "n = len(df_simulation)\n",
    "# Ranked Loss\n",
    "df_loss = df_simulation[['Scenario','Loss']].sort_values(by = 'Loss', ascending = False)\n",
    "print('Loss distribution: from the worst to the best')\n",
    "print(df_loss.head(5))\n",
    "\n",
    "# Method 1: VaR and ES calculation using Percentile Function\n",
    "losses = df_simulation.Loss.values\n",
    "\n",
    "VaR  = np.percentile(losses, alpha * 100, method = 'higher') \n",
    "ES = np.mean(losses [losses >= VaR])\n",
    "\n",
    "print('---')\n",
    "print('VaR (pctl): ', VaR)\n",
    "print('ES (pctl)', ES)\n",
    "\n",
    "# Method 2: VaR and ES calculation from ranked Loss\n",
    "losses_sorted = df_loss.Loss.values\n",
    "\n",
    "Critial_index = 4 ## What is critical index for?\n",
    "VaR  = losses_sorted[Critial_index]\n",
    "ES = np.mean( losses_sorted[0: Critial_index + 1] )\n",
    "print('---')\n",
    "print('VaR (ranked loss): ', VaR)\n",
    "print('ES (ranked loss)', ES)"
   ]
  },
  {
   "cell_type": "markdown",
   "metadata": {},
   "source": [
    "# 2b"
   ]
  },
  {
   "cell_type": "code",
   "execution_count": 56,
   "metadata": {},
   "outputs": [
    {
     "name": "stdout",
     "output_type": "stream",
     "text": [
      "     Scenario  Loss  Weight  Cum Weight\n",
      "17         18  0.97    0.00        0.00\n",
      "8           9  0.76    0.00        0.00\n",
      "197       198  0.72    0.00        0.00\n",
      "190       191  0.71    0.00        0.00\n",
      "15         16  0.71    0.00        0.00\n",
      "VaR:  0.22940148030210672\n",
      "ES  0.2712884275794882\n"
     ]
    }
   ],
   "source": [
    "# Exponential Weighting scheme\n",
    "Lambda = 0.995\n",
    "n = len(df_simulation)\n",
    "df_loss['Weight'] = np.power(Lambda, n - df_loss['Scenario']) * (1- Lambda) / (1- np.power(Lambda, n))\n",
    "df_loss['Cum Weight'] = np.cumsum(df_loss.Weight)\n",
    "print(df_loss.head(5))\n",
    "\n",
    "# VaR and ES calculation\n",
    "\n",
    "weights = df_loss['Weight'].values\n",
    "cum_weights = df_loss['Cum Weight'].values\n",
    "losses_sorted = df_loss.Loss.values\n",
    "\n",
    "Critial_index = np.where(cum_weights >= 1 - alpha, np.arange(n) , np.inf).argmin()\n",
    "VaR  = df_loss.Loss.iloc[Critial_index]\n",
    "\n",
    "w_for_ES = weights[0:Critial_index].tolist() + [1 - alpha - cum_weights[Critial_index-1]]\n",
    "ES = np.sum( losses_sorted[0: Critial_index + 1] * w_for_ES )/ (1-alpha)\n",
    "\n",
    "# print('Weight for ES: ', w_for_ES)\n",
    "\n",
    "print('VaR: ', VaR)\n",
    "print('ES ', ES)"
   ]
  },
  {
   "cell_type": "markdown",
   "metadata": {},
   "source": [
    "# 2c"
   ]
  },
  {
   "cell_type": "code",
   "execution_count": 57,
   "metadata": {},
   "outputs": [
    {
     "name": "stdout",
     "output_type": "stream",
     "text": [
      "VaR:  0.46796727696068374\n",
      "ES  0.5361335057106865\n"
     ]
    }
   ],
   "source": [
    "# Daily net returns assumed normally distributed with mean zero\n",
    "from scipy.stats import norm\n",
    "\n",
    "sigma = losses_sorted.std() \n",
    "VaR = 0 + sigma * norm.ppf(alpha)\n",
    "ES = 0 + sigma * norm.pdf(norm.ppf(alpha))/(1-alpha)\n",
    "\n",
    "print('VaR: ',  VaR)\n",
    "print('ES ', ES)"
   ]
  },
  {
   "cell_type": "markdown",
   "metadata": {},
   "source": [
    "# 2d\n",
    "\n",
    "Reason for differences: \n",
    "1) Simulation method is based on past performance alone, high degree of variance between each day\n",
    "2) Exponential weighting scheme places less weight on historical values, lower variance and likely to follow trend of more recent days\n",
    "3) Direct standard deviation : not sure exactly why this is different from pctl"
   ]
  },
  {
   "cell_type": "markdown",
   "metadata": {},
   "source": [
    "# Questions to clarify\n",
    "\n",
    "\n",
    "a) Monotonicity: What case will this not hold?\n",
    "\n",
    "b) Translation Invariance: x is a fixed value, that reduces risk by x amount, taking a loan to cover the risk, what if x is negative\n",
    "\n",
    "c) Positive Homogeneity: Doesnt this directly contradict diversification based on its loose terms"
   ]
  }
 ],
 "metadata": {
  "kernelspec": {
   "display_name": "Python 3.10.7 64-bit",
   "language": "python",
   "name": "python3"
  },
  "language_info": {
   "codemirror_mode": {
    "name": "ipython",
    "version": 3
   },
   "file_extension": ".py",
   "mimetype": "text/x-python",
   "name": "python",
   "nbconvert_exporter": "python",
   "pygments_lexer": "ipython3",
   "version": "3.10.7"
  },
  "orig_nbformat": 4,
  "vscode": {
   "interpreter": {
    "hash": "b7da478affe01d998ba032614fda288b4c91404150a78dc872243ca143d7bb35"
   }
  }
 },
 "nbformat": 4,
 "nbformat_minor": 2
}
