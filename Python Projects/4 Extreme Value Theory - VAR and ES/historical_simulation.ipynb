{
 "cells": [
  {
   "cell_type": "markdown",
   "metadata": {
    "slideshow": {
     "slide_type": "slide"
    }
   },
   "source": [
    "# Code Tutorial: \n",
    "\n",
    "# Historical Simulation for Risk Measures\n"
   ]
  },
  {
   "cell_type": "markdown",
   "metadata": {
    "slideshow": {
     "slide_type": "slide"
    }
   },
   "source": [
    "# Packages"
   ]
  },
  {
   "cell_type": "code",
   "execution_count": 1,
   "metadata": {
    "slideshow": {
     "slide_type": "fragment"
    }
   },
   "outputs": [],
   "source": [
    "import pandas as pd\n",
    "import numpy as np\n",
    "import matplotlib.pyplot as plt\n",
    "import scipy.optimize as opt\n",
    "#pd.options.display.float_format = '{:,.2f}'.format"
   ]
  },
  {
   "cell_type": "markdown",
   "metadata": {
    "slideshow": {
     "slide_type": "skip"
    }
   },
   "source": [
    "# Load and Pre-process Historical Data"
   ]
  },
  {
   "cell_type": "code",
   "execution_count": 2,
   "metadata": {
    "slideshow": {
     "slide_type": "skip"
    }
   },
   "outputs": [
    {
     "name": "stdout",
     "output_type": "stream",
     "text": [
      "Historical Data (Raw)\n"
     ]
    },
    {
     "data": {
      "text/html": [
       "<div>\n",
       "<style scoped>\n",
       "    .dataframe tbody tr th:only-of-type {\n",
       "        vertical-align: middle;\n",
       "    }\n",
       "\n",
       "    .dataframe tbody tr th {\n",
       "        vertical-align: top;\n",
       "    }\n",
       "\n",
       "    .dataframe thead th {\n",
       "        text-align: right;\n",
       "    }\n",
       "</style>\n",
       "<table border=\"1\" class=\"dataframe\">\n",
       "  <thead>\n",
       "    <tr style=\"text-align: right;\">\n",
       "      <th></th>\n",
       "      <th>Day</th>\n",
       "      <th>Date</th>\n",
       "      <th>DJIA</th>\n",
       "      <th>FTSE-100</th>\n",
       "      <th>USD/GBP</th>\n",
       "      <th>CAC-40</th>\n",
       "      <th>EUR/USD</th>\n",
       "      <th>Nikkei</th>\n",
       "      <th>YEN/USD</th>\n",
       "    </tr>\n",
       "  </thead>\n",
       "  <tbody>\n",
       "    <tr>\n",
       "      <th>0</th>\n",
       "      <td>0</td>\n",
       "      <td>7-Aug-06</td>\n",
       "      <td>11219.38</td>\n",
       "      <td>5828.8</td>\n",
       "      <td>1.9098</td>\n",
       "      <td>4956.34</td>\n",
       "      <td>0.7776</td>\n",
       "      <td>15154.06</td>\n",
       "      <td>115.00</td>\n",
       "    </tr>\n",
       "    <tr>\n",
       "      <th>1</th>\n",
       "      <td>1</td>\n",
       "      <td>8-Aug-06</td>\n",
       "      <td>11173.59</td>\n",
       "      <td>5818.1</td>\n",
       "      <td>1.9072</td>\n",
       "      <td>4967.95</td>\n",
       "      <td>0.7789</td>\n",
       "      <td>15464.66</td>\n",
       "      <td>115.08</td>\n",
       "    </tr>\n",
       "    <tr>\n",
       "      <th>2</th>\n",
       "      <td>2</td>\n",
       "      <td>9-Aug-06</td>\n",
       "      <td>11076.18</td>\n",
       "      <td>5860.5</td>\n",
       "      <td>1.9086</td>\n",
       "      <td>5025.15</td>\n",
       "      <td>0.7762</td>\n",
       "      <td>15656.59</td>\n",
       "      <td>115.17</td>\n",
       "    </tr>\n",
       "    <tr>\n",
       "      <th>3</th>\n",
       "      <td>3</td>\n",
       "      <td>10-Aug-06</td>\n",
       "      <td>11124.37</td>\n",
       "      <td>5823.4</td>\n",
       "      <td>1.8918</td>\n",
       "      <td>4976.64</td>\n",
       "      <td>0.7828</td>\n",
       "      <td>15630.91</td>\n",
       "      <td>115.41</td>\n",
       "    </tr>\n",
       "    <tr>\n",
       "      <th>4</th>\n",
       "      <td>4</td>\n",
       "      <td>11-Aug-06</td>\n",
       "      <td>11088.02</td>\n",
       "      <td>5820.1</td>\n",
       "      <td>1.8970</td>\n",
       "      <td>4985.52</td>\n",
       "      <td>0.7833</td>\n",
       "      <td>15565.02</td>\n",
       "      <td>116.07</td>\n",
       "    </tr>\n",
       "  </tbody>\n",
       "</table>\n",
       "</div>"
      ],
      "text/plain": [
       "   Day       Date      DJIA  FTSE-100  USD/GBP   CAC-40  EUR/USD    Nikkei  \\\n",
       "0    0   7-Aug-06  11219.38    5828.8   1.9098  4956.34   0.7776  15154.06   \n",
       "1    1   8-Aug-06  11173.59    5818.1   1.9072  4967.95   0.7789  15464.66   \n",
       "2    2   9-Aug-06  11076.18    5860.5   1.9086  5025.15   0.7762  15656.59   \n",
       "3    3  10-Aug-06  11124.37    5823.4   1.8918  4976.64   0.7828  15630.91   \n",
       "4    4  11-Aug-06  11088.02    5820.1   1.8970  4985.52   0.7833  15565.02   \n",
       "\n",
       "   YEN/USD  \n",
       "0   115.00  \n",
       "1   115.08  \n",
       "2   115.17  \n",
       "3   115.41  \n",
       "4   116.07  "
      ]
     },
     "execution_count": 2,
     "metadata": {},
     "output_type": "execute_result"
    }
   ],
   "source": [
    "# Historical data of the four indices adjusted to USD\n",
    "df = pd.read_csv('world_indices_full.csv')\n",
    "print('Historical Data (Raw)')\n",
    "df.head()"
   ]
  },
  {
   "cell_type": "code",
   "execution_count": 3,
   "metadata": {
    "slideshow": {
     "slide_type": "skip"
    }
   },
   "outputs": [
    {
     "name": "stdout",
     "output_type": "stream",
     "text": [
      "Historical Data (Adjusted for currency exchange rates)\n"
     ]
    },
    {
     "data": {
      "text/html": [
       "<div>\n",
       "<style scoped>\n",
       "    .dataframe tbody tr th:only-of-type {\n",
       "        vertical-align: middle;\n",
       "    }\n",
       "\n",
       "    .dataframe tbody tr th {\n",
       "        vertical-align: top;\n",
       "    }\n",
       "\n",
       "    .dataframe thead th {\n",
       "        text-align: right;\n",
       "    }\n",
       "</style>\n",
       "<table border=\"1\" class=\"dataframe\">\n",
       "  <thead>\n",
       "    <tr style=\"text-align: right;\">\n",
       "      <th></th>\n",
       "      <th>Date</th>\n",
       "      <th>DJIA</th>\n",
       "      <th>FTSE-100 Adj.</th>\n",
       "      <th>CAC-40 Adj.</th>\n",
       "      <th>Nikkei Adj.</th>\n",
       "    </tr>\n",
       "  </thead>\n",
       "  <tbody>\n",
       "    <tr>\n",
       "      <th>0</th>\n",
       "      <td>7-Aug-06</td>\n",
       "      <td>11219.38</td>\n",
       "      <td>11131.84224</td>\n",
       "      <td>6373.894033</td>\n",
       "      <td>131.774435</td>\n",
       "    </tr>\n",
       "    <tr>\n",
       "      <th>1</th>\n",
       "      <td>8-Aug-06</td>\n",
       "      <td>11173.59</td>\n",
       "      <td>11096.28032</td>\n",
       "      <td>6378.161510</td>\n",
       "      <td>134.381821</td>\n",
       "    </tr>\n",
       "    <tr>\n",
       "      <th>2</th>\n",
       "      <td>9-Aug-06</td>\n",
       "      <td>11076.18</td>\n",
       "      <td>11185.35030</td>\n",
       "      <td>6474.040196</td>\n",
       "      <td>135.943301</td>\n",
       "    </tr>\n",
       "    <tr>\n",
       "      <th>3</th>\n",
       "      <td>10-Aug-06</td>\n",
       "      <td>11124.37</td>\n",
       "      <td>11016.70812</td>\n",
       "      <td>6357.485948</td>\n",
       "      <td>135.438090</td>\n",
       "    </tr>\n",
       "    <tr>\n",
       "      <th>4</th>\n",
       "      <td>11-Aug-06</td>\n",
       "      <td>11088.02</td>\n",
       "      <td>11040.72970</td>\n",
       "      <td>6364.764458</td>\n",
       "      <td>134.100284</td>\n",
       "    </tr>\n",
       "    <tr>\n",
       "      <th>...</th>\n",
       "      <td>...</td>\n",
       "      <td>...</td>\n",
       "      <td>...</td>\n",
       "      <td>...</td>\n",
       "      <td>...</td>\n",
       "    </tr>\n",
       "    <tr>\n",
       "      <th>496</th>\n",
       "      <td>18-Sep-08</td>\n",
       "      <td>11019.69</td>\n",
       "      <td>8878.18400</td>\n",
       "      <td>5689.850489</td>\n",
       "      <td>109.547101</td>\n",
       "    </tr>\n",
       "    <tr>\n",
       "      <th>497</th>\n",
       "      <td>19-Sep-08</td>\n",
       "      <td>11388.44</td>\n",
       "      <td>9734.01951</td>\n",
       "      <td>6230.005762</td>\n",
       "      <td>111.618539</td>\n",
       "    </tr>\n",
       "    <tr>\n",
       "      <th>498</th>\n",
       "      <td>22-Sep-08</td>\n",
       "      <td>11015.69</td>\n",
       "      <td>9656.26083</td>\n",
       "      <td>6181.952576</td>\n",
       "      <td>113.228975</td>\n",
       "    </tr>\n",
       "    <tr>\n",
       "      <th>499</th>\n",
       "      <td>24-Sep-08</td>\n",
       "      <td>10825.17</td>\n",
       "      <td>9438.57988</td>\n",
       "      <td>6033.934595</td>\n",
       "      <td>114.260398</td>\n",
       "    </tr>\n",
       "    <tr>\n",
       "      <th>500</th>\n",
       "      <td>25-Sep-08</td>\n",
       "      <td>11022.06</td>\n",
       "      <td>9599.89840</td>\n",
       "      <td>6200.396069</td>\n",
       "      <td>112.822120</td>\n",
       "    </tr>\n",
       "  </tbody>\n",
       "</table>\n",
       "<p>501 rows × 5 columns</p>\n",
       "</div>"
      ],
      "text/plain": [
       "          Date      DJIA  FTSE-100 Adj.  CAC-40 Adj.  Nikkei Adj.\n",
       "0     7-Aug-06  11219.38    11131.84224  6373.894033   131.774435\n",
       "1     8-Aug-06  11173.59    11096.28032  6378.161510   134.381821\n",
       "2     9-Aug-06  11076.18    11185.35030  6474.040196   135.943301\n",
       "3    10-Aug-06  11124.37    11016.70812  6357.485948   135.438090\n",
       "4    11-Aug-06  11088.02    11040.72970  6364.764458   134.100284\n",
       "..         ...       ...            ...          ...          ...\n",
       "496  18-Sep-08  11019.69     8878.18400  5689.850489   109.547101\n",
       "497  19-Sep-08  11388.44     9734.01951  6230.005762   111.618539\n",
       "498  22-Sep-08  11015.69     9656.26083  6181.952576   113.228975\n",
       "499  24-Sep-08  10825.17     9438.57988  6033.934595   114.260398\n",
       "500  25-Sep-08  11022.06     9599.89840  6200.396069   112.822120\n",
       "\n",
       "[501 rows x 5 columns]"
      ]
     },
     "execution_count": 3,
     "metadata": {},
     "output_type": "execute_result"
    }
   ],
   "source": [
    "df['FTSE-100 Adj.'] = df['FTSE-100']  * df['USD/GBP']\n",
    "df['CAC-40 Adj.'] = df['CAC-40']  / df['EUR/USD']\n",
    "df['Nikkei Adj.'] = df['Nikkei']  / df['YEN/USD']\n",
    "\n",
    "df[['Date','DJIA','FTSE-100 Adj.','CAC-40 Adj.','Nikkei Adj.']].to_csv('data_historical_simulation_adjusted.csv', index = None)\n",
    "df = pd.read_csv('data_historical_simulation_adjusted.csv')\n",
    "print('Historical Data (Adjusted for currency exchange rates)')\n",
    "df"
   ]
  },
  {
   "cell_type": "code",
   "execution_count": 4,
   "metadata": {
    "slideshow": {
     "slide_type": "slide"
    }
   },
   "outputs": [
    {
     "data": {
      "image/png": "[encoded data removed]",
      "text/plain": [
       "<Figure size 432x288 with 1 Axes>"
      ]
     },
     "metadata": {
      "needs_background": "light"
     },
     "output_type": "display_data"
    }
   ],
   "source": [
    "dates = pd.to_datetime(df.Date)\n",
    "plt.plot(dates, df['DJIA']/11219.38, label = 'DJIA (normalized)', alpha = 0.8)\n",
    "plt.plot(dates, df['FTSE-100 Adj.']/11131.84224, label = 'FTSE-100 Adj. (normalized)', alpha = 0.8)\n",
    "plt.plot(dates, df['CAC-40 Adj.']/6373.894033, label = 'CAC-40 Adj. (normalized)', alpha = 0.8)\n",
    "plt.plot(dates, df['Nikkei Adj.']/131.774435, label = 'Nikkei Adj. (normalized)', alpha = 0.8)\n",
    "plt.legend()\n",
    "plt.xticks(rotation=20)\n",
    "plt.savefig('4-index data.pdf')\n",
    "plt.show()"
   ]
  },
  {
   "cell_type": "code",
   "execution_count": 5,
   "metadata": {
    "slideshow": {
     "slide_type": "skip"
    }
   },
   "outputs": [
    {
     "data": {
      "text/plain": [
       "array([[4000, 3000, 1000, 2000]])"
      ]
     },
     "execution_count": 5,
     "metadata": {},
     "output_type": "execute_result"
    }
   ],
   "source": [
    "# Current position in USD\n",
    "positions = np.array([4000, 3000, 1000, 2000]).reshape((1,-1))\n",
    "positions"
   ]
  },
  {
   "cell_type": "markdown",
   "metadata": {
    "slideshow": {
     "slide_type": "skip"
    }
   },
   "source": [
    "# Generate Historical Simulation Data"
   ]
  },
  {
   "cell_type": "code",
   "execution_count": 6,
   "metadata": {
    "slideshow": {
     "slide_type": "skip"
    }
   },
   "outputs": [
    {
     "data": {
      "text/plain": [
       "[1, 2, 3, 4]"
      ]
     },
     "execution_count": 6,
     "metadata": {},
     "output_type": "execute_result"
    }
   ],
   "source": [
    "# Indices for columns with price information\n",
    "irange = [1,2,3,4]\n",
    "irange"
   ]
  },
  {
   "cell_type": "code",
   "execution_count": 7,
   "metadata": {
    "slideshow": {
     "slide_type": "skip"
    }
   },
   "outputs": [
    {
     "data": {
      "text/plain": [
       "array([[11022.06      ,  9599.8984    ,  6200.39606865,   112.8221199 ]])"
      ]
     },
     "execution_count": 7,
     "metadata": {},
     "output_type": "execute_result"
    }
   ],
   "source": [
    "#price in the last day\n",
    "last_prices = df.iloc[-1, irange].values.reshape((1,-1)).astype(float)\n",
    "last_prices"
   ]
  },
  {
   "cell_type": "code",
   "execution_count": 8,
   "metadata": {
    "slideshow": {
     "slide_type": "slide"
    }
   },
   "outputs": [
    {
     "name": "stdout",
     "output_type": "stream",
     "text": [
      "Simulated Data\n"
     ]
    },
    {
     "data": {
      "text/html": [
       "<div>\n",
       "<style scoped>\n",
       "    .dataframe tbody tr th:only-of-type {\n",
       "        vertical-align: middle;\n",
       "    }\n",
       "\n",
       "    .dataframe tbody tr th {\n",
       "        vertical-align: top;\n",
       "    }\n",
       "\n",
       "    .dataframe thead th {\n",
       "        text-align: right;\n",
       "    }\n",
       "</style>\n",
       "<table border=\"1\" class=\"dataframe\">\n",
       "  <thead>\n",
       "    <tr style=\"text-align: right;\">\n",
       "      <th></th>\n",
       "      <th>Scenario</th>\n",
       "      <th>DJIA</th>\n",
       "      <th>FTSE-100 Adj.</th>\n",
       "      <th>CAC-40 Adj.</th>\n",
       "      <th>Nikkei Adj.</th>\n",
       "      <th>Portfolio Value</th>\n",
       "      <th>Loss</th>\n",
       "    </tr>\n",
       "  </thead>\n",
       "  <tbody>\n",
       "    <tr>\n",
       "      <th>0</th>\n",
       "      <td>1</td>\n",
       "      <td>10977.075328</td>\n",
       "      <td>9569.230447</td>\n",
       "      <td>6204.547384</td>\n",
       "      <td>115.054502</td>\n",
       "      <td>10014.333846</td>\n",
       "      <td>-14.333846</td>\n",
       "    </tr>\n",
       "    <tr>\n",
       "      <th>1</th>\n",
       "      <td>2</td>\n",
       "      <td>10925.971020</td>\n",
       "      <td>9676.956904</td>\n",
       "      <td>6293.602524</td>\n",
       "      <td>114.133082</td>\n",
       "      <td>10027.481313</td>\n",
       "      <td>-27.481313</td>\n",
       "    </tr>\n",
       "    <tr>\n",
       "      <th>2</th>\n",
       "      <td>3</td>\n",
       "      <td>11070.014536</td>\n",
       "      <td>9455.160171</td>\n",
       "      <td>6088.768325</td>\n",
       "      <td>112.402835</td>\n",
       "      <td>9946.735941</td>\n",
       "      <td>53.264059</td>\n",
       "    </tr>\n",
       "    <tr>\n",
       "      <th>3</th>\n",
       "      <td>4</td>\n",
       "      <td>10986.044308</td>\n",
       "      <td>9620.830672</td>\n",
       "      <td>6207.494731</td>\n",
       "      <td>111.707706</td>\n",
       "      <td>9974.860634</td>\n",
       "      <td>25.139366</td>\n",
       "    </tr>\n",
       "    <tr>\n",
       "      <th>4</th>\n",
       "      <td>5</td>\n",
       "      <td>11031.851405</td>\n",
       "      <td>9659.697615</td>\n",
       "      <td>6265.571993</td>\n",
       "      <td>114.564247</td>\n",
       "      <td>10063.635125</td>\n",
       "      <td>-63.635125</td>\n",
       "    </tr>\n",
       "    <tr>\n",
       "      <th>...</th>\n",
       "      <td>...</td>\n",
       "      <td>...</td>\n",
       "      <td>...</td>\n",
       "      <td>...</td>\n",
       "      <td>...</td>\n",
       "      <td>...</td>\n",
       "      <td>...</td>\n",
       "    </tr>\n",
       "    <tr>\n",
       "      <th>495</th>\n",
       "      <td>496</td>\n",
       "      <td>11448.027963</td>\n",
       "      <td>9662.992581</td>\n",
       "      <td>6214.282488</td>\n",
       "      <td>110.184137</td>\n",
       "      <td>10129.780585</td>\n",
       "      <td>-129.780585</td>\n",
       "    </tr>\n",
       "    <tr>\n",
       "      <th>496</th>\n",
       "      <td>497</td>\n",
       "      <td>11390.889307</td>\n",
       "      <td>10525.305436</td>\n",
       "      <td>6789.019028</td>\n",
       "      <td>114.955485</td>\n",
       "      <td>10555.795411</td>\n",
       "      <td>-555.795411</td>\n",
       "    </tr>\n",
       "    <tr>\n",
       "      <th>497</th>\n",
       "      <td>498</td>\n",
       "      <td>10661.301822</td>\n",
       "      <td>9523.211125</td>\n",
       "      <td>6152.571268</td>\n",
       "      <td>114.449921</td>\n",
       "      <td>9866.255624</td>\n",
       "      <td>133.744376</td>\n",
       "    </tr>\n",
       "    <tr>\n",
       "      <th>498</th>\n",
       "      <td>499</td>\n",
       "      <td>10831.429829</td>\n",
       "      <td>9383.488027</td>\n",
       "      <td>6051.936484</td>\n",
       "      <td>113.849836</td>\n",
       "      <td>9857.464506</td>\n",
       "      <td>142.535494</td>\n",
       "    </tr>\n",
       "    <tr>\n",
       "      <th>499</th>\n",
       "      <td>500</td>\n",
       "      <td>11222.531068</td>\n",
       "      <td>9763.974079</td>\n",
       "      <td>6371.449807</td>\n",
       "      <td>111.401946</td>\n",
       "      <td>10126.438967</td>\n",
       "      <td>-126.438967</td>\n",
       "    </tr>\n",
       "  </tbody>\n",
       "</table>\n",
       "<p>500 rows × 7 columns</p>\n",
       "</div>"
      ],
      "text/plain": [
       "     Scenario          DJIA  FTSE-100 Adj.  CAC-40 Adj.  Nikkei Adj.  \\\n",
       "0           1  10977.075328    9569.230447  6204.547384   115.054502   \n",
       "1           2  10925.971020    9676.956904  6293.602524   114.133082   \n",
       "2           3  11070.014536    9455.160171  6088.768325   112.402835   \n",
       "3           4  10986.044308    9620.830672  6207.494731   111.707706   \n",
       "4           5  11031.851405    9659.697615  6265.571993   114.564247   \n",
       "..        ...           ...            ...          ...          ...   \n",
       "495       496  11448.027963    9662.992581  6214.282488   110.184137   \n",
       "496       497  11390.889307   10525.305436  6789.019028   114.955485   \n",
       "497       498  10661.301822    9523.211125  6152.571268   114.449921   \n",
       "498       499  10831.429829    9383.488027  6051.936484   113.849836   \n",
       "499       500  11222.531068    9763.974079  6371.449807   111.401946   \n",
       "\n",
       "     Portfolio Value        Loss  \n",
       "0       10014.333846  -14.333846  \n",
       "1       10027.481313  -27.481313  \n",
       "2        9946.735941   53.264059  \n",
       "3        9974.860634   25.139366  \n",
       "4       10063.635125  -63.635125  \n",
       "..               ...         ...  \n",
       "495     10129.780585 -129.780585  \n",
       "496     10555.795411 -555.795411  \n",
       "497      9866.255624  133.744376  \n",
       "498      9857.464506  142.535494  \n",
       "499     10126.438967 -126.438967  \n",
       "\n",
       "[500 rows x 7 columns]"
      ]
     },
     "execution_count": 8,
     "metadata": {},
     "output_type": "execute_result"
    }
   ],
   "source": [
    "# construct the simulated scenarios\n",
    "df_simulation = last_prices * (df.iloc[1:, irange]) / (df.shift(periods=1).iloc[1:, irange])\n",
    "df_simulation['Portfolio Value'] = np.sum(df_simulation.values / last_prices * positions , axis = 1)\n",
    "df_simulation['Loss'] = np.sum(positions) - df_simulation['Portfolio Value'] \n",
    "df_simulation.reset_index(inplace = True)\n",
    "df_simulation.rename(columns={\"index\": \"Scenario\"}, inplace = True)\n",
    "\n",
    "df_simulation.to_csv('data_historical_simulation_scenarios.csv', index = None)\n",
    "\n",
    "print('Simulated Data')\n",
    "df_simulation"
   ]
  },
  {
   "cell_type": "code",
   "execution_count": 9,
   "metadata": {
    "slideshow": {
     "slide_type": "slide"
    }
   },
   "outputs": [
    {
     "name": "stdout",
     "output_type": "stream",
     "text": [
      "Total number of scenarios:  500\n"
     ]
    }
   ],
   "source": [
    "# Total number of scenarios\n",
    "n = len(df_simulation)\n",
    "print('Total number of scenarios: ', n)"
   ]
  },
  {
   "cell_type": "code",
   "execution_count": 10,
   "metadata": {
    "slideshow": {
     "slide_type": "fragment"
    }
   },
   "outputs": [
    {
     "name": "stdout",
     "output_type": "stream",
     "text": [
      "Loss distribution\n"
     ]
    },
    {
     "data": {
      "image/png": "[encoded data removed]",
      "text/plain": [
       "<Figure size 432x288 with 1 Axes>"
      ]
     },
     "metadata": {
      "needs_background": "light"
     },
     "output_type": "display_data"
    }
   ],
   "source": [
    "# histogram of portfolio losses\n",
    "df_simulation.Loss.hist(bins = 25)\n",
    "plt.savefig('losses.pdf')\n",
    "print('Loss distribution')\n",
    "plt.show()"
   ]
  },
  {
   "cell_type": "markdown",
   "metadata": {
    "slideshow": {
     "slide_type": "slide"
    }
   },
   "source": [
    "# Method 1. VaR and ES: Basic Version"
   ]
  },
  {
   "cell_type": "code",
   "execution_count": 11,
   "metadata": {
    "slideshow": {
     "slide_type": "slide"
    }
   },
   "outputs": [],
   "source": [
    "# Defining the confidence level alpha \n",
    "alpha = 0.99"
   ]
  },
  {
   "cell_type": "code",
   "execution_count": 12,
   "metadata": {
    "slideshow": {
     "slide_type": "slide"
    }
   },
   "outputs": [
    {
     "name": "stdout",
     "output_type": "stream",
     "text": [
      "Loss distribution: from the worst to the best\n"
     ]
    },
    {
     "data": {
      "text/html": [
       "<div>\n",
       "<style scoped>\n",
       "    .dataframe tbody tr th:only-of-type {\n",
       "        vertical-align: middle;\n",
       "    }\n",
       "\n",
       "    .dataframe tbody tr th {\n",
       "        vertical-align: top;\n",
       "    }\n",
       "\n",
       "    .dataframe thead th {\n",
       "        text-align: right;\n",
       "    }\n",
       "</style>\n",
       "<table border=\"1\" class=\"dataframe\">\n",
       "  <thead>\n",
       "    <tr style=\"text-align: right;\">\n",
       "      <th></th>\n",
       "      <th>Scenario</th>\n",
       "      <th>Loss</th>\n",
       "    </tr>\n",
       "  </thead>\n",
       "  <tbody>\n",
       "    <tr>\n",
       "      <th>493</th>\n",
       "      <td>494</td>\n",
       "      <td>477.841001</td>\n",
       "    </tr>\n",
       "    <tr>\n",
       "      <th>338</th>\n",
       "      <td>339</td>\n",
       "      <td>345.435075</td>\n",
       "    </tr>\n",
       "    <tr>\n",
       "      <th>348</th>\n",
       "      <td>349</td>\n",
       "      <td>282.203845</td>\n",
       "    </tr>\n",
       "    <tr>\n",
       "      <th>328</th>\n",
       "      <td>329</td>\n",
       "      <td>277.041294</td>\n",
       "    </tr>\n",
       "    <tr>\n",
       "      <th>486</th>\n",
       "      <td>487</td>\n",
       "      <td>253.384956</td>\n",
       "    </tr>\n",
       "    <tr>\n",
       "      <th>...</th>\n",
       "      <td>...</td>\n",
       "      <td>...</td>\n",
       "    </tr>\n",
       "    <tr>\n",
       "      <th>488</th>\n",
       "      <td>489</td>\n",
       "      <td>-284.924692</td>\n",
       "    </tr>\n",
       "    <tr>\n",
       "      <th>340</th>\n",
       "      <td>341</td>\n",
       "      <td>-307.930115</td>\n",
       "    </tr>\n",
       "    <tr>\n",
       "      <th>376</th>\n",
       "      <td>377</td>\n",
       "      <td>-316.489339</td>\n",
       "    </tr>\n",
       "    <tr>\n",
       "      <th>378</th>\n",
       "      <td>379</td>\n",
       "      <td>-333.021840</td>\n",
       "    </tr>\n",
       "    <tr>\n",
       "      <th>496</th>\n",
       "      <td>497</td>\n",
       "      <td>-555.795411</td>\n",
       "    </tr>\n",
       "  </tbody>\n",
       "</table>\n",
       "<p>500 rows × 2 columns</p>\n",
       "</div>"
      ],
      "text/plain": [
       "     Scenario        Loss\n",
       "493       494  477.841001\n",
       "338       339  345.435075\n",
       "348       349  282.203845\n",
       "328       329  277.041294\n",
       "486       487  253.384956\n",
       "..        ...         ...\n",
       "488       489 -284.924692\n",
       "340       341 -307.930115\n",
       "376       377 -316.489339\n",
       "378       379 -333.021840\n",
       "496       497 -555.795411\n",
       "\n",
       "[500 rows x 2 columns]"
      ]
     },
     "execution_count": 12,
     "metadata": {},
     "output_type": "execute_result"
    }
   ],
   "source": [
    "# Ranked Loss\n",
    "df_loss = df_simulation[['Scenario','Loss']].sort_values(by = 'Loss', ascending = False)\n",
    "print('Loss distribution: from the worst to the best')\n",
    "df_loss"
   ]
  },
  {
   "cell_type": "code",
   "execution_count": 13,
   "metadata": {
    "slideshow": {
     "slide_type": "slide"
    }
   },
   "outputs": [
    {
     "name": "stdout",
     "output_type": "stream",
     "text": [
      "VaR:  253.3849560997951\n",
      "ES  327.1812343292771\n"
     ]
    }
   ],
   "source": [
    "# Method 1: VaR and ES calculation using Percentile Function\n",
    "losses = df_simulation.Loss.values\n",
    "\n",
    "VaR  = np.percentile(losses, alpha * 100, interpolation = 'higher') \n",
    "ES = np.mean(losses [losses >= VaR])\n",
    "\n",
    "print('VaR: ', VaR)\n",
    "print('ES ', ES)"
   ]
  },
  {
   "cell_type": "code",
   "execution_count": 14,
   "metadata": {
    "slideshow": {
     "slide_type": "slide"
    }
   },
   "outputs": [
    {
     "name": "stdout",
     "output_type": "stream",
     "text": [
      "VaR:  253.3849560997951\n",
      "ES  327.1812343292771\n"
     ]
    }
   ],
   "source": [
    "# Method 2: VaR and ES calculation from ranked Loss\n",
    "losses_sorted = df_loss.Loss.values\n",
    "\n",
    "Critial_index = 4\n",
    "VaR  = losses_sorted[Critial_index]\n",
    "ES = np.mean( losses_sorted[0: Critial_index + 1] )\n",
    "\n",
    "print('VaR: ', VaR)\n",
    "print('ES ', ES)"
   ]
  },
  {
   "cell_type": "markdown",
   "metadata": {
    "slideshow": {
     "slide_type": "slide"
    }
   },
   "source": [
    "# Method 2. VaR and ES:  Exponential Weighting Scheme"
   ]
  },
  {
   "cell_type": "code",
   "execution_count": 15,
   "metadata": {
    "slideshow": {
     "slide_type": "slide"
    }
   },
   "outputs": [
    {
     "data": {
      "text/html": [
       "<div>\n",
       "<style scoped>\n",
       "    .dataframe tbody tr th:only-of-type {\n",
       "        vertical-align: middle;\n",
       "    }\n",
       "\n",
       "    .dataframe tbody tr th {\n",
       "        vertical-align: top;\n",
       "    }\n",
       "\n",
       "    .dataframe thead th {\n",
       "        text-align: right;\n",
       "    }\n",
       "</style>\n",
       "<table border=\"1\" class=\"dataframe\">\n",
       "  <thead>\n",
       "    <tr style=\"text-align: right;\">\n",
       "      <th></th>\n",
       "      <th>Scenario</th>\n",
       "      <th>Loss</th>\n",
       "      <th>Weight</th>\n",
       "      <th>Cum Weight</th>\n",
       "    </tr>\n",
       "  </thead>\n",
       "  <tbody>\n",
       "    <tr>\n",
       "      <th>493</th>\n",
       "      <td>494</td>\n",
       "      <td>477.841001</td>\n",
       "      <td>0.005283</td>\n",
       "      <td>0.005283</td>\n",
       "    </tr>\n",
       "    <tr>\n",
       "      <th>338</th>\n",
       "      <td>339</td>\n",
       "      <td>345.435075</td>\n",
       "      <td>0.002429</td>\n",
       "      <td>0.007712</td>\n",
       "    </tr>\n",
       "    <tr>\n",
       "      <th>348</th>\n",
       "      <td>349</td>\n",
       "      <td>282.203845</td>\n",
       "      <td>0.002554</td>\n",
       "      <td>0.010266</td>\n",
       "    </tr>\n",
       "    <tr>\n",
       "      <th>328</th>\n",
       "      <td>329</td>\n",
       "      <td>277.041294</td>\n",
       "      <td>0.002310</td>\n",
       "      <td>0.012576</td>\n",
       "    </tr>\n",
       "    <tr>\n",
       "      <th>486</th>\n",
       "      <td>487</td>\n",
       "      <td>253.384956</td>\n",
       "      <td>0.005101</td>\n",
       "      <td>0.017677</td>\n",
       "    </tr>\n",
       "    <tr>\n",
       "      <th>...</th>\n",
       "      <td>...</td>\n",
       "      <td>...</td>\n",
       "      <td>...</td>\n",
       "      <td>...</td>\n",
       "    </tr>\n",
       "    <tr>\n",
       "      <th>488</th>\n",
       "      <td>489</td>\n",
       "      <td>-284.924692</td>\n",
       "      <td>0.005152</td>\n",
       "      <td>0.986276</td>\n",
       "    </tr>\n",
       "    <tr>\n",
       "      <th>340</th>\n",
       "      <td>341</td>\n",
       "      <td>-307.930115</td>\n",
       "      <td>0.002454</td>\n",
       "      <td>0.988730</td>\n",
       "    </tr>\n",
       "    <tr>\n",
       "      <th>376</th>\n",
       "      <td>377</td>\n",
       "      <td>-316.489339</td>\n",
       "      <td>0.002939</td>\n",
       "      <td>0.991669</td>\n",
       "    </tr>\n",
       "    <tr>\n",
       "      <th>378</th>\n",
       "      <td>379</td>\n",
       "      <td>-333.021840</td>\n",
       "      <td>0.002968</td>\n",
       "      <td>0.994637</td>\n",
       "    </tr>\n",
       "    <tr>\n",
       "      <th>496</th>\n",
       "      <td>497</td>\n",
       "      <td>-555.795411</td>\n",
       "      <td>0.005363</td>\n",
       "      <td>1.000000</td>\n",
       "    </tr>\n",
       "  </tbody>\n",
       "</table>\n",
       "<p>500 rows × 4 columns</p>\n",
       "</div>"
      ],
      "text/plain": [
       "     Scenario        Loss    Weight  Cum Weight\n",
       "493       494  477.841001  0.005283    0.005283\n",
       "338       339  345.435075  0.002429    0.007712\n",
       "348       349  282.203845  0.002554    0.010266\n",
       "328       329  277.041294  0.002310    0.012576\n",
       "486       487  253.384956  0.005101    0.017677\n",
       "..        ...         ...       ...         ...\n",
       "488       489 -284.924692  0.005152    0.986276\n",
       "340       341 -307.930115  0.002454    0.988730\n",
       "376       377 -316.489339  0.002939    0.991669\n",
       "378       379 -333.021840  0.002968    0.994637\n",
       "496       497 -555.795411  0.005363    1.000000\n",
       "\n",
       "[500 rows x 4 columns]"
      ]
     },
     "execution_count": 15,
     "metadata": {},
     "output_type": "execute_result"
    }
   ],
   "source": [
    "Lambda = 0.995\n",
    "df_loss['Weight'] = np.power( Lambda, n - df_loss.Scenario) * (1- Lambda) / (1- np.power(Lambda, n))\n",
    "df_loss['Cum Weight'] = np.cumsum(df_loss.Weight)\n",
    "df_loss"
   ]
  },
  {
   "cell_type": "code",
   "execution_count": 16,
   "metadata": {
    "slideshow": {
     "slide_type": "slide"
    }
   },
   "outputs": [
    {
     "name": "stdout",
     "output_type": "stream",
     "text": [
      "Weight for ES:  [0.0052827895216603655, 0.00242907443549901, 0.0022881360428406335]\n",
      "VaR:  282.20384520461266\n",
      "ES  400.9141733391478\n"
     ]
    }
   ],
   "source": [
    "# VaR and ES calculation\n",
    "\n",
    "weights = df_loss['Weight'].values\n",
    "cum_weights = df_loss['Cum Weight'].values\n",
    "losses_sorted = df_loss.Loss.values\n",
    "\n",
    "Critial_index = np.where(cum_weights >= 1 - alpha, np.arange(n) , np.inf).argmin()\n",
    "VaR  = df_loss.Loss.iloc[Critial_index]\n",
    "\n",
    "w_for_ES = weights[0:Critial_index].tolist() + [1 - alpha - cum_weights[Critial_index-1]]\n",
    "ES = np.sum( losses_sorted[0: Critial_index + 1] * w_for_ES )/ (1-alpha)\n",
    "\n",
    "print('Weight for ES: ', w_for_ES)\n",
    "\n",
    "print('VaR: ', VaR)\n",
    "print('ES ', ES)\n",
    "\n"
   ]
  },
  {
   "cell_type": "markdown",
   "metadata": {
    "slideshow": {
     "slide_type": "slide"
    }
   },
   "source": [
    "# Method 3. VaR and ES: Normal Distribution Approximation"
   ]
  },
  {
   "cell_type": "code",
   "execution_count": 17,
   "metadata": {
    "slideshow": {
     "slide_type": "slide"
    }
   },
   "outputs": [
    {
     "name": "stdout",
     "output_type": "stream",
     "text": [
      "VaR:  217.75700822477393\n",
      "ES  249.47647829321903\n"
     ]
    }
   ],
   "source": [
    "from scipy.stats import norm\n",
    "\n",
    "sigma = losses_sorted.std() \n",
    "VaR = 0 + sigma * norm.ppf(alpha)\n",
    "ES = 0 + sigma * norm.pdf(norm.ppf(alpha))/(1-alpha)\n",
    "\n",
    "print('VaR: ',  VaR)\n",
    "print('ES ', ES)"
   ]
  },
  {
   "cell_type": "markdown",
   "metadata": {
    "slideshow": {
     "slide_type": "slide"
    }
   },
   "source": [
    "# Method 4. VaR and ES: Extreme Value Theory"
   ]
  },
  {
   "cell_type": "code",
   "execution_count": 18,
   "metadata": {
    "slideshow": {
     "slide_type": "slide"
    }
   },
   "outputs": [
    {
     "name": "stdout",
     "output_type": "stream",
     "text": [
      "Initial guess of the (beta, xi) configuration:  (40, 0.3)\n",
      "Log likelihood for the initial guess:  -108.3677826497676\n"
     ]
    }
   ],
   "source": [
    "# Initialization\n",
    "\n",
    "\n",
    "u = 160 #In general the rule of thumb for u is the 95 percentile of historical loss data\n",
    "tail_losses = losses_sorted[losses_sorted > u]\n",
    "n_u = len(tail_losses )\n",
    "\n",
    "# Definition the og likelihood function \n",
    "def EVT_likelihood (paras):\n",
    "    beta = paras[0]\n",
    "    xi = paras[1]\n",
    "    return  (-1/xi -1) * np.sum( np.log(1 + xi * (tail_losses - u)/beta ) ) - n_u * np.log(beta) \n",
    "\n",
    "\n",
    "x0 = (40, 0.3) #Initial guess of beta and xi\n",
    "print('Initial guess of the (beta, xi) configuration: ', x0)\n",
    "print('Log likelihood for the initial guess: ', EVT_likelihood ((40, 0.3)))\n"
   ]
  },
  {
   "cell_type": "code",
   "execution_count": 19,
   "metadata": {
    "slideshow": {
     "slide_type": "slide"
    }
   },
   "outputs": [
    {
     "name": "stdout",
     "output_type": "stream",
     "text": [
      "`xtol` termination condition is satisfied.\n",
      "Number of iterations: 37, function evaluations: 90, CG iterations: 46, optimality: 9.54e-07, constraint violation: 0.00e+00, execution time: 0.11 s.\n",
      "Optimal (beta, xi) configuration:  32.53163452925411 0.43624581429985804\n",
      "Log likelihood for the optimal solution :  -108.20609317143487\n",
      "VaR:  227.75220491851996\n",
      "ES  337.8857558693401\n"
     ]
    },
    {
     "name": "stderr",
     "output_type": "stream",
     "text": [
      "/opt/anaconda3/lib/python3.8/site-packages/scipy/optimize/_hessian_update_strategy.py:182: UserWarning: delta_grad == 0.0. Check if the approximated function is linear. If the function is linear better results can be obtained by defining the Hessian as zero instead of using quasi-Newton approximations.\n",
      "  warn('delta_grad == 0.0. Check if the approximated '\n"
     ]
    }
   ],
   "source": [
    "# Maximum Likelihood Estimate: the (beta, xi) configuration that \"best explains the data\", or that maximizes the log likelihood function\n",
    "\n",
    "# Setting up an unconstrained optimization problem. If beta or xi are negative, then it is likely to be a sign that \n",
    "# (a) the tail of the distribution is not heavier than the normal distribution; or \n",
    "# (b) an inappropriate value of u has been chosen\n",
    "\n",
    "\n",
    "\n",
    "# The negative sign in \"- EVT_likelihood (x)\" is because we are maximizing while the solver solves minimization by default\n",
    "#res = opt.minimize( lambda x: - EVT_likelihood (x)  , x0, method='SLSQP',  options={ 'ftol': 1e-11, 'disp': True})\n",
    "res = opt.minimize( lambda x: - EVT_likelihood (x)  , x0, method='trust-constr',  options={'disp': True})\n",
    "\n",
    "\n",
    "beta_optimal, xi_optimal =  res.x\n",
    "\n",
    "print('Optimal (beta, xi) configuration: ', beta_optimal, xi_optimal )\n",
    "print('Log likelihood for the optimal solution : ', EVT_likelihood ((beta_optimal, xi_optimal)))\n",
    "\n",
    "VaR = u + beta_optimal/xi_optimal * (np.power(n/n_u * (1-alpha),-xi_optimal) - 1)\n",
    "ES  = (VaR + beta_optimal - xi_optimal * u)/(1 - xi_optimal)\n",
    "\n",
    "print('VaR: ',  VaR)\n",
    "print('ES ', ES)"
   ]
  }
 ],
 "metadata": {
  "kernelspec": {
   "display_name": "Python 3",
   "language": "python",
   "name": "python3"
  },
  "language_info": {
   "codemirror_mode": {
    "name": "ipython",
    "version": 3
   },
   "file_extension": ".py",
   "mimetype": "text/x-python",
   "name": "python",
   "nbconvert_exporter": "python",
   "pygments_lexer": "ipython3",
   "version": "3.8.5"
  }
 },
 "nbformat": 4,
 "nbformat_minor": 2
}
