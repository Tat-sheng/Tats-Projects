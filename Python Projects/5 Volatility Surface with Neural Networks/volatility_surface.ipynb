{
 "cells": [
  {
   "cell_type": "code",
   "execution_count": 62,
   "metadata": {},
   "outputs": [],
   "source": [
    "############\n",
    "#This program takes about 60 minutes to run\n",
    "############\n",
    "\n",
    "#Loading Package\n",
    "import os\n",
    "\n",
    "import time\n",
    "import numpy as np\n",
    "import scipy as sci\n",
    "import scipy.io as sio\n",
    "import pandas as pd\n",
    "\n",
    "from sklearn.model_selection import train_test_split\n",
    "from sklearn.linear_model import LinearRegression\n",
    "from sklearn.metrics import mean_squared_error\n",
    "from sklearn.preprocessing import StandardScaler\n",
    "\n",
    "\n",
    "import tensorflow as tf\n",
    "from tensorflow.keras.layers import Dense\n",
    "from tensorflow import keras\n",
    "\n",
    "\n",
    "from numpy.random import seed\n",
    "seed(100)\n",
    "\n",
    "\n",
    "import matplotlib.pyplot as plt\n",
    "\n",
    "\n",
    "import time\n",
    "\n"
   ]
  },
  {
   "cell_type": "code",
   "execution_count": 60,
   "metadata": {},
   "outputs": [
    {
     "name": "stdout",
     "output_type": "stream",
     "text": [
      "Size of the dataset (row, col):  (125700, 5)\n"
     ]
    },
    {
     "data": {
      "text/html": [
       "<div>\n",
       "<style scoped>\n",
       "    .dataframe tbody tr th:only-of-type {\n",
       "        vertical-align: middle;\n",
       "    }\n",
       "\n",
       "    .dataframe tbody tr th {\n",
       "        vertical-align: top;\n",
       "    }\n",
       "\n",
       "    .dataframe thead th {\n",
       "        text-align: right;\n",
       "    }\n",
       "</style>\n",
       "<table border=\"1\" class=\"dataframe\">\n",
       "  <thead>\n",
       "    <tr style=\"text-align: right;\">\n",
       "      <th></th>\n",
       "      <th>Date</th>\n",
       "      <th>SPX Return</th>\n",
       "      <th>Time to Maturity in Year</th>\n",
       "      <th>Delta</th>\n",
       "      <th>Implied Volatility Change</th>\n",
       "    </tr>\n",
       "  </thead>\n",
       "  <tbody>\n",
       "    <tr>\n",
       "      <th>0</th>\n",
       "      <td>20140630</td>\n",
       "      <td>0.006678</td>\n",
       "      <td>0.184</td>\n",
       "      <td>0.745927</td>\n",
       "      <td>0.008462</td>\n",
       "    </tr>\n",
       "    <tr>\n",
       "      <th>1</th>\n",
       "      <td>20140630</td>\n",
       "      <td>0.006678</td>\n",
       "      <td>2.252</td>\n",
       "      <td>0.286911</td>\n",
       "      <td>0.002024</td>\n",
       "    </tr>\n",
       "    <tr>\n",
       "      <th>2</th>\n",
       "      <td>20140630</td>\n",
       "      <td>0.006678</td>\n",
       "      <td>0.124</td>\n",
       "      <td>0.902941</td>\n",
       "      <td>0.019707</td>\n",
       "    </tr>\n",
       "    <tr>\n",
       "      <th>3</th>\n",
       "      <td>20140630</td>\n",
       "      <td>0.006678</td>\n",
       "      <td>2.144</td>\n",
       "      <td>0.910926</td>\n",
       "      <td>0.006424</td>\n",
       "    </tr>\n",
       "    <tr>\n",
       "      <th>4</th>\n",
       "      <td>20140630</td>\n",
       "      <td>0.006678</td>\n",
       "      <td>1.412</td>\n",
       "      <td>0.885760</td>\n",
       "      <td>0.005673</td>\n",
       "    </tr>\n",
       "  </tbody>\n",
       "</table>\n",
       "</div>"
      ],
      "text/plain": [
       "       Date  SPX Return  Time to Maturity in Year     Delta  \\\n",
       "0  20140630    0.006678                     0.184  0.745927   \n",
       "1  20140630    0.006678                     2.252  0.286911   \n",
       "2  20140630    0.006678                     0.124  0.902941   \n",
       "3  20140630    0.006678                     2.144  0.910926   \n",
       "4  20140630    0.006678                     1.412  0.885760   \n",
       "\n",
       "   Implied Volatility Change  \n",
       "0                   0.008462  \n",
       "1                   0.002024  \n",
       "2                   0.019707  \n",
       "3                   0.006424  \n",
       "4                   0.005673  "
      ]
     },
     "execution_count": 60,
     "metadata": {},
     "output_type": "execute_result"
    }
   ],
   "source": [
    "# load raw data\n",
    "raw = pd.read_csv(os.path.join('Implied_Volatility_Data_vFinal.csv'))\n",
    "# check the raw data\n",
    "print(\"Size of the dataset (row, col): \", raw.shape)\n",
    "raw.head(n=5)"
   ]
  },
  {
   "cell_type": "markdown",
   "metadata": {},
   "source": [
    "## Construct the 3 variables for Regression Approach"
   ]
  },
  {
   "cell_type": "code",
   "execution_count": 3,
   "metadata": {},
   "outputs": [],
   "source": [
    "# construct the 3 variables for regression\n",
    "raw['x1'] = raw['SPX Return'] / np.sqrt(raw['Time to Maturity in Year'])\n",
    "raw['x2'] = raw['SPX Return'] / np.sqrt(raw['Time to Maturity in Year']) * raw['Delta']\n",
    "raw['x3'] = raw['x2'] * raw['Delta']\n",
    "\n",
    "# Put the X and Y variable in data frame for regression\n",
    "y = raw['Implied Volatility Change']\n",
    "X = raw[['x1', 'x2', 'x3','SPX Return','Time to Maturity in Year','Delta']]"
   ]
  },
  {
   "cell_type": "code",
   "execution_count": 4,
   "metadata": {},
   "outputs": [],
   "source": [
    "# Divide data into training set and test set(note that random seed is set)\n",
    "X_train,X_test,y_train,y_test=train_test_split(X,y,test_size=0.2,random_state=100)\n",
    "\n",
    "# Divide training set into training and validation set\n",
    "X_train,X_val,y_train,y_val=train_test_split(X_train,y_train,test_size=0.25,random_state=100)"
   ]
  },
  {
   "cell_type": "markdown",
   "metadata": {},
   "source": [
    "## Feature Scaling"
   ]
  },
  {
   "cell_type": "code",
   "execution_count": 53,
   "metadata": {},
   "outputs": [],
   "source": [
    "# Scale features based on Z-Score\n",
    "scaler = StandardScaler()\n",
    "scaler.fit(X_train)\n",
    "\n",
    "\n",
    "X_scaled_train = scaler.transform(X_train)\n",
    "X_scaled_vals = scaler.transform(X_val)\n",
    "X_scaled_test = scaler.transform(X_test)\n",
    "y_train = np.asarray(y_train)\n",
    "y_val = np.asarray(y_val)\n",
    "y_test = np.asarray(y_test)"
   ]
  },
  {
   "cell_type": "markdown",
   "metadata": {},
   "source": [
    "## Run Regression"
   ]
  },
  {
   "cell_type": "code",
   "execution_count": 6,
   "metadata": {},
   "outputs": [
    {
     "name": "stdout",
     "output_type": "stream",
     "text": [
      "Test loss (MSE): 7.423167462421238e-05\n"
     ]
    }
   ],
   "source": [
    "# Run the regression on the training data\n",
    "lr = LinearRegression(fit_intercept=False)\n",
    "lr.fit(X_scaled_train[:,:3], y_train)\n",
    "\n",
    "# Get the prediction\n",
    "y_pred = lr.predict(X_scaled_test[:,:3])\n",
    "\n",
    "# Calculate Mean Squared Error\n",
    "mse = mean_squared_error(y_test, y_pred)\n",
    "\n",
    "print('Test loss (MSE):', mse)"
   ]
  },
  {
   "cell_type": "markdown",
   "metadata": {},
   "source": [
    "## ML Approach"
   ]
  },
  {
   "cell_type": "code",
   "execution_count": 7,
   "metadata": {},
   "outputs": [
    {
     "name": "stdout",
     "output_type": "stream",
     "text": [
      "Model: \"sequential\"\n",
      "_________________________________________________________________\n",
      " Layer (type)                Output Shape              Param #   \n",
      "=================================================================\n",
      " dense (Dense)               (None, 20)                80        \n",
      "                                                                 \n",
      " dense_1 (Dense)             (None, 20)                420       \n",
      "                                                                 \n",
      " dense_2 (Dense)             (None, 20)                420       \n",
      "                                                                 \n",
      " dense_3 (Dense)             (None, 1)                 21        \n",
      "                                                                 \n",
      "=================================================================\n",
      "Total params: 941\n",
      "Trainable params: 941\n",
      "Non-trainable params: 0\n",
      "_________________________________________________________________\n"
     ]
    }
   ],
   "source": [
    "# Create ML Model\n",
    "# Sequential function allows you to define your Neural Network in sequential order\n",
    "# Within Sequential, use Dense function to define number of nodes, activation function and other related parameters \n",
    "# For more information regrading to activation functoin, please refer to https://keras.io/activations/\n",
    "model = keras.models.Sequential([Dense(20,activation = \"sigmoid\",input_shape = (3,)),\n",
    "                                 Dense(20,activation = \"sigmoid\"),Dense(20,activation = \"sigmoid\"),\n",
    "                                Dense(1)])\n",
    "\n",
    "# Model summary function shows what you created in the model\n",
    "model.summary()"
   ]
  },
  {
   "cell_type": "code",
   "execution_count": 8,
   "metadata": {},
   "outputs": [],
   "source": [
    "# Complie function allows you to choose your measure of loss and optimzer\n",
    "# For other optimizer, please refer to https://keras.io/optimizers/\n",
    "model.compile(loss = \"mse\",optimizer = \"Adam\")"
   ]
  },
  {
   "cell_type": "code",
   "execution_count": 42,
   "metadata": {},
   "outputs": [],
   "source": [
    "# Checkpoint function is used here to periodically save a copy of the model. \n",
    "# Currently it is set to save the best performing model\n",
    "checkpoint_cb = keras.callbacks.ModelCheckpoint(\"implied_vol_model_vFinal.h5\",save_best_only = True)\n",
    "\n",
    "# Early stopping allows you to stop your training early if no improvment is shown after cerain period\n",
    "# Currently it is set at if no improvement occured in 1000 epochs, at the stop the model will also revert back to the best weight\n",
    "early_stopping_cb = keras.callbacks.EarlyStopping(patience = 1000,restore_best_weights = True)\n",
    "\n",
    "# Remark: checkpoint could be redundant here as early stopping function can also help restoring to the best weight\n",
    "# We put both here just to illustrate different ways to keep the best model\n",
    " "
   ]
  },
  {
   "cell_type": "code",
   "execution_count": 10,
   "metadata": {},
   "outputs": [
    {
     "name": "stdout",
     "output_type": "stream",
     "text": [
      "2078.13751912117\n"
     ]
    }
   ],
   "source": [
    "# train your model\n",
    "# The fit function allows you to train a NN model. Here we have training data, number of epochs,batch size, validation data, \n",
    "# and callbacks as input\n",
    "# Callback is an optional parameters that allow you to enable tricks for training such as early stopping and checkpoint\n",
    "\n",
    "# Remarks: Altough we put 50000 epochs here, the model will stop its training once our early stopping criterion is triggered\n",
    "\n",
    "\n",
    "\n",
    "\n",
    "\n",
    "start = time.time()\n",
    "history=model.fit(X_scaled_train[:,3:6],y_train,epochs=50000, batch_size = 128, verbose = 0, validation_data=(X_scaled_vals[:,3:6],y_val),\n",
    "                 callbacks=[checkpoint_cb, early_stopping_cb])\n",
    "end = time.time()\n",
    "# Print the running time measured in seconds\n",
    "print(end - start)\n"
   ]
  },
  {
   "cell_type": "code",
   "execution_count": 11,
   "metadata": {},
   "outputs": [
    {
     "name": "stdout",
     "output_type": "stream",
     "text": [
      "Test Loss(MSE): 6.380462582455948e-05\n"
     ]
    }
   ],
   "source": [
    "# Load the best model you saved and calcuate MSE for testing set\n",
    "\n",
    "model = keras.models.load_model(\"implied_vol_model_vFinal.h5\")\n",
    "mse_test = model.evaluate(X_scaled_test[:,3:6],y_test,verbose=0)\n",
    "\n",
    "print('Test Loss(MSE):', mse_test)"
   ]
  },
  {
   "cell_type": "code",
   "execution_count": 12,
   "metadata": {},
   "outputs": [
    {
     "name": "stdout",
     "output_type": "stream",
     "text": [
      "Gain Ratio: 0.14046630164870189\n"
     ]
    }
   ],
   "source": [
    "# Calculate Gain Ratio\n",
    "\n",
    "gain = 1 - mse_test/mse \n",
    "\n",
    "print('Gain Ratio:', gain)"
   ]
  },
  {
   "cell_type": "markdown",
   "metadata": {},
   "source": [
    "## Review your results and export training history\n"
   ]
  },
  {
   "cell_type": "code",
   "execution_count": 45,
   "metadata": {},
   "outputs": [],
   "source": [
    "#Export your training history for MSE\n",
    "output = pd.DataFrame(history.history)\n",
    "output.to_csv(\"mse_overtime.csv\", index = False)"
   ]
  },
  {
   "cell_type": "code",
   "execution_count": 61,
   "metadata": {},
   "outputs": [
    {
     "data": {
      "image/png": "[encoded data removed]",
      "text/plain": [
       "<Figure size 432x288 with 1 Axes>"
      ]
     },
     "metadata": {
      "needs_background": "light"
     },
     "output_type": "display_data"
    }
   ],
   "source": [
    "# Plot training history\n",
    "\n",
    "df = pd.read_csv('mse_overtime.csv')\n",
    "\n",
    "plt.plot(np.arange(len(df)), df['val_loss'], alpha = 0.3, label='validation loss')\n",
    "plt.plot(np.arange(len(df)), df['val_loss'].rolling(25).mean(), label='validation loss (moving average)')\n",
    "plt.plot(np.arange(len(df)), df['loss'], label='training loss')\n",
    "\n",
    "plt.legend()\n",
    "plt.ylim(0.000065,0.00009)\n",
    "#plt.savefig('mse.png',bbox_inches='tight', transparent=True, dpi=300) \n",
    "\n",
    "\n",
    "plt.show()"
   ]
  }
 ],
 "metadata": {
  "kernelspec": {
   "display_name": "Python 3",
   "language": "python",
   "name": "python3"
  },
  "language_info": {
   "codemirror_mode": {
    "name": "ipython",
    "version": 3
   },
   "file_extension": ".py",
   "mimetype": "text/x-python",
   "name": "python",
   "nbconvert_exporter": "python",
   "pygments_lexer": "ipython3",
   "version": "3.8.5"
  }
 },
 "nbformat": 4,
 "nbformat_minor": 2
}
